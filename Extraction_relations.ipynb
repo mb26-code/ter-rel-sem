{
  "nbformat": 4,
  "nbformat_minor": 0,
  "metadata": {
    "colab": {
      "provenance": [],
      "authorship_tag": "ABX9TyPwSzpoXnWOexXPP355aFiK",
      "include_colab_link": true
    },
    "kernelspec": {
      "name": "python3",
      "display_name": "Python 3"
    },
    "language_info": {
      "name": "python"
    }
  },
  "cells": [
    {
      "cell_type": "markdown",
      "metadata": {
        "id": "view-in-github",
        "colab_type": "text"
      },
      "source": [
        "<a href=\"https://colab.research.google.com/github/mb26-code/ter-rel-sem/blob/main/Extraction_relations.ipynb\" target=\"_parent\"><img src=\"https://colab.research.google.com/assets/colab-badge.svg\" alt=\"Open In Colab\"/></a>"
      ]
    },
    {
      "cell_type": "code",
      "execution_count": 5,
      "metadata": {
        "id": "dYDEjPsxfVtF",
        "colab": {
          "base_uri": "https://localhost:8080/"
        },
        "outputId": "59c0731e-b5d6-4fe0-ab35-47be9417ba3d"
      },
      "outputs": [
        {
          "output_type": "stream",
          "name": "stdout",
          "text": [
            "Drive already mounted at /content/gdrive; to attempt to forcibly remount, call drive.mount(\"/content/gdrive\", force_remount=True).\n"
          ]
        }
      ],
      "source": [
        "from google.colab import drive\n",
        "\n",
        "import sys\n",
        "import os\n",
        "\n",
        "drive.mount('/content/gdrive')\n",
        "my_local_drive='/content/gdrive/My Drive/TER/'\n",
        "sys.path.append(my_local_drive)"
      ]
    },
    {
      "cell_type": "code",
      "source": [
        "!pip install spacy pandas\n",
        "!pip install wikipedia-api"
      ],
      "metadata": {
        "id": "GZBYGJlwgkRn"
      },
      "execution_count": null,
      "outputs": []
    },
    {
      "cell_type": "markdown",
      "source": [
        "# Téléchargement les contenus de Wiki"
      ],
      "metadata": {
        "id": "zdTTmRX8hxoe"
      }
    },
    {
      "cell_type": "code",
      "source": [
        "import wikipediaapi\n",
        "import re\n",
        "from urllib.parse import unquote\n",
        "\n",
        "# url = \"https://fr.wikipedia.org/wiki/Pot-au-feu\"  # Change this to any Wikipedia URL\n",
        "url = \"https://fr.wikipedia.org/wiki/Tripes_%C3%A0_la_proven%C3%A7ale\"\n",
        "\n",
        "def get_wikipedia_text(url, lang='fr'):\n",
        "    # Extract the title from the Wikipedia URL\n",
        "    decoded_url = unquote(url)\n",
        "    match = re.search(r\"/wiki/(.+)$\", decoded_url)\n",
        "    if not match:\n",
        "        print(\"Invalid Wikipedia URL.\")\n",
        "        return None\n",
        "\n",
        "    page_title = match.group(1).replace('_', ' ')\n",
        "\n",
        "    wiki_wiki = wikipediaapi.Wikipedia(language=lang, user_agent=\"MyWikipediaScraper/1.0\")\n",
        "    page = wiki_wiki.page(page_title)\n",
        "\n",
        "    if not page.exists():\n",
        "        print(f\"Page '{page_title}' does not exist.\")\n",
        "        return None\n",
        "\n",
        "    return page.text\n",
        "\n",
        "text = get_wikipedia_text(url)\n",
        "\n",
        "# Save to a text file\n",
        "if text:\n",
        "    with open(f\"{my_local_drive}wikipedia_text.txt\", \"w\", encoding=\"utf-8\") as f:\n",
        "        f.write(text)\n",
        "    print(f\"Text saved to wikipedia_text.txt\")\n"
      ],
      "metadata": {
        "colab": {
          "base_uri": "https://localhost:8080/"
        },
        "id": "xLsPnejMhTOi",
        "outputId": "e733eda9-b3cb-4c8a-8e2a-f05c1a42d0e5"
      },
      "execution_count": 8,
      "outputs": [
        {
          "output_type": "stream",
          "name": "stdout",
          "text": [
            "Text saved to wikipedia_text.txt\n"
          ]
        }
      ]
    },
    {
      "cell_type": "code",
      "source": [
        "content = \"\"\n",
        "with open(f\"{my_local_drive}wikipedia_text.txt\", \"r\", encoding=\"utf-8\") as f:\n",
        "  content = f.read();\n",
        "  # print(content)"
      ],
      "metadata": {
        "id": "tLUPnr3QjxIt"
      },
      "execution_count": 4,
      "outputs": []
    },
    {
      "cell_type": "markdown",
      "source": [
        "# Traitement initial"
      ],
      "metadata": {
        "id": "1lAEKNygpVEZ"
      }
    },
    {
      "cell_type": "code",
      "source": [
        "!python -m spacy download fr_core_news_lg"
      ],
      "metadata": {
        "id": "3i9QYtQtqE70",
        "colab": {
          "base_uri": "https://localhost:8080/"
        },
        "outputId": "b3189334-78e4-40bc-c89d-b6b36b25b586"
      },
      "execution_count": 5,
      "outputs": [
        {
          "output_type": "stream",
          "name": "stdout",
          "text": [
            "Collecting fr-core-news-lg==3.8.0\n",
            "  Downloading https://github.com/explosion/spacy-models/releases/download/fr_core_news_lg-3.8.0/fr_core_news_lg-3.8.0-py3-none-any.whl (571.8 MB)\n",
            "\u001b[2K     \u001b[90m━━━━━━━━━━━━━━━━━━━━━━━━━━━━━━━━━━━━━━━\u001b[0m \u001b[32m571.8/571.8 MB\u001b[0m \u001b[31m1.4 MB/s\u001b[0m eta \u001b[36m0:00:00\u001b[0m\n",
            "\u001b[?25hInstalling collected packages: fr-core-news-lg\n",
            "Successfully installed fr-core-news-lg-3.8.0\n",
            "\u001b[38;5;2m✔ Download and installation successful\u001b[0m\n",
            "You can now load the package via spacy.load('fr_core_news_lg')\n",
            "\u001b[38;5;3m⚠ Restart to reload dependencies\u001b[0m\n",
            "If you are in a Jupyter or Colab notebook, you may need to restart Python in\n",
            "order to load all the package's dependencies. You can do this by selecting the\n",
            "'Restart kernel' or 'Restart runtime' option.\n"
          ]
        }
      ]
    },
    {
      "cell_type": "markdown",
      "source": [
        "# Explication de l'algo\n",
        "Je crée une classe `TokenAnnotation` pour traiter chaque token (mot). Cette classe est pour but de stocker des infos du token lui-même, comme :\n",
        "- text : texte brut\n",
        "- lemma : texte après traitement\n",
        "- pos : nature du mot (adj, adv, nom)\n",
        "- dep : label de dépendence, pour définir sa relation avec un autre token (head) dans la phrase, comme `nsubj` --> nominal subject\n",
        "- head : indice de `head` de ce token. Càd ce token est le dépendent de head\n",
        "\n",
        "Ultérieurement, on va se baser sur cette `dep` pour filtrer quelles dépendences qu'on prendra pour tester avec l'API JdM, au lieu de brute-force tous les cas inutiles.\n",
        "\n",
        "Par exemple, prenons cette phrase :\n",
        "**Le bouillon contient traditionnellement un oignon piqué de clous de girofle, l'ail est déconseillé.**\n",
        "\n",
        "Après l'extraction, `girofle` a son head `clou` et sa dep `nmod`.\n",
        "```\n",
        "head | lemma | dep\n",
        "('clou', 'girofle', 'nmod')\n",
        "```\n",
        "Vérifions avec JdM : https://jdm-api.demo.lirmm.fr/v0/relations/from/clou/to/girofle\n",
        "\n",
        "On aura 2 relations :\n",
        "\n",
        "- Type 0 : r_associated\n",
        "- Type 8 : r_hypo\n",
        "\n",
        "Donc, on sauvegardera dans la BdD cette paire et ses relations, à filtrer par le poids `w` si nécessaire.\n",
        "\n",
        "À consulter les relations types : https://jdm-api.demo.lirmm.fr/v0/relations_types#\n",
        "\n"
      ],
      "metadata": {
        "id": "oK2_nix4F06c"
      }
    },
    {
      "cell_type": "markdown",
      "source": [
        "# 1. CRÉATION DE CLASSE ET PARSING"
      ],
      "metadata": {
        "id": "4k2UoxADQIYm"
      }
    },
    {
      "cell_type": "code",
      "source": [
        "from dataclasses import dataclass\n",
        "from typing import List, Optional\n",
        "import spacy\n",
        "nlp = spacy.load(\"fr_core_news_lg\")\n",
        "\n",
        "@dataclass\n",
        "class TokenAnnotation:\n",
        "    text: str           # surface form\n",
        "    lemma: str          # canonical form\n",
        "    pos: str            # part-of-speech tag\n",
        "    dep: str            # dependency label\n",
        "    head: int           # index of the head token in its sentence\n",
        "    sent_id: Optional[int] = None  # optional: which sentence\n",
        "\n",
        "def annotate(text: str) -> List[List[TokenAnnotation]]:\n",
        "    doc = nlp(text)\n",
        "    all_sents: List[List[TokenAnnotation]] = []\n",
        "    for sent_id, sent in enumerate(doc.sents):\n",
        "        tokens = []\n",
        "        for token in sent:\n",
        "            tokens.append(TokenAnnotation(\n",
        "                text=token.text,\n",
        "                lemma=token.lemma_,\n",
        "                pos=token.pos_,\n",
        "                dep=token.dep_,\n",
        "                head=token.head.i - sent.start,  # index *within* this sentence\n",
        "                sent_id=sent_id\n",
        "            ))\n",
        "        all_sents.append(tokens)\n",
        "    return all_sents\n",
        "\n",
        "# Exécution\n",
        "# Utiliser ça au lieu du texte brut de Wikipedia pour tester\n",
        "test_text = \"\"\"Le pot-au-feu (inv.) est une recette de cuisine traditionnelle emblématique historique de la cuisine française, et du repas gastronomique des Français, à base de viande de bœuf cuisant longuement à feu très doux dans un bouillon de légumes (poireau, carotte, navet, oignon, céleri, chou et bouquet garni). La présence de pommes de terre est discutée, puisqu’elles ne faisaient pas partie de la recette d’origine, la pomme de terre n’ayant été introduite en France par Antoine Parmentier qu’à la fin du XVIIIe siècle. Historiquement, c’est plutôt le panais qui jouait son rôle.\n",
        "Historique\n",
        "Jean Louis Schefer fait remonter le pot-au-feu au rêve néolithique, « celui du foyer, du vase d'argile, du pot mis au feu, de la soif étanchée, de la faim apaisée… », origine reprise par le restaurant À la Cloche d'or : « Pot-au-feu désigne à la base le « pot à feu », le pot dans lequel on faisait revenir un bouillon aromatique auquel on ajoutait viandes et légumes ». Jean Guillaume pense qu'à l'origine de l'agriculture les raves sont venues compléter les herbes dans les bouillons, « on y ajoutait du pain pour faire la soupe et de la viande pour les grands jours ».\n",
        "Au XIIIe siècle, il est appelé « viande au pot ». Autrefois, la cuisson du pot-au-feu pouvait s’effectuer de façon continue, de nouveaux ingrédients étant rajoutés au fur et à mesure pour remplacer ceux qui étaient retirés afin d’être consommés. À présent que les maisons n’ont plus un feu de bois allumé en continu, le pot-au-feu est cuisiné spécifiquement en vue d’un repas.\n",
        "Marcel Rouff, dans son roman Vie et Passion de Dodin-Bouffant, gourmet (1924) a décrit un pot-au-feu devenu mythique, qui a inspiré des pots-au-feu démesurés à de nombreux chefs.\n",
        "Composition\n",
        "Les coupes de bœuf et les légumes impliqués varient, mais un pot-au-feu typique contient :\n",
        "des coupes de bœuf à faible coût nécessitant une longue cuisson : gîte, gîte à la noix, joue de bœuf, jarret, plat de côtes, paleron, macreuse à pot-au-feu ou jumeau à pot-au-feu ;\n",
        "classiquement fait avec du bœuf ou du poulet, parfois veau, porc ou mouton sont utilisés ;\n",
        "un ou plusieurs morceaux cartilagineux : queue de bœuf ou os à moelle ;\n",
        "des légumes : carotte, navet, poireau, parfois pomme de terre (qui n’a été introduite que tard, au cours du XVIIIe siècle au moment de sa promotion en France par Antoine Parmentier), céleri-rave, oignon (selon les régions et les recettes) ;\n",
        "des épices : bouquet garni, sel, poivre noir et clous de girofle.\n",
        "Le pot-au-feu est l'un des rares plats où l'on utilise parfois des aliments brûlés : pour parfumer et colorer le bouillon, les oignons sont coupés en deux et passés au four (gril) jusqu'à ce que la surface soit complètement noire.\n",
        "Jules Gouffé, cuisinier et pâtissier français du XIXe siècle distingue le petit pot-au-feu ordinaire du grand pot-au-feu des jours d'extra.\n",
        "Cuisson\n",
        "Deux méthodes sont en présence : mettre le bœuf dans l'eau froide ou bien dans l'eau bouillante. La première donne un bouillon succulent, la seconde préserve davantage le gout des viandes. Paul Bocuse, Jules Gouffé optent  pour l'eau froide. Un bon compromis selon Sabine Jeannin et al. est de commencer à l'eau froide avec un premier morceau de bœuf, et d'en ajouter un autre quand l'eau bout.\n",
        "Le bouillon contient traditionnellement un oignon piqué de clous de girofle, l'ail est déconseillé. La cuisson doit être longue et douce, (« le premier soin est de bien faire son feu »), ébullition continue et régulière pendant 3 à 5 heures selon le contenu, trop cuire le pot-au-feu est néfaste — les légumes ne séjournent dans le bouillon que le temps de les cuire —, on laisse entrouvert le couvercle de la marmite. Le bouillon est écumé en début de cuisson puis dégraissé après avoir retiré la viande cuite. Les amateurs préfèrent le pot-au-feu réchauffé le lendemain.\n",
        "Dans les autocuiseurs, la cuisson se fait toujours en deux temps, le second est bref et réservé aux légumes.\n",
        "Service\n",
        "Le bouillon de cuisson du pot-au-feu est servi à côté comme potage, souvent agrémenté de pâtes, riz ou pain grillé, au dîner ou en entrée avant de servir la viande et les légumes du pot-au-feu. Il sert également de base aux sauces ou à la cuisson des légumes ou des pâtes. La moelle est mangée sur du pain grillé. Ensuite, le pot-au-feu est généralement servi avec du gros sel et de la moutarde forte de Dijon. Le reste de viande peut être broyé et utilisé pour la préparation d'un pâté de viande, mais cette pratique est rare en France, sauf en Alsace où la viande et le bouillon servent à cuisiner les Fleischschnacka.\n",
        "Accord mets/vin\n",
        "Le vin blanc est rarement proposé avec le pot-au-feu. Il s'accorde pourtant avec ce mets s'il est ample et vif, dans ce cas, c'est un vin qui désaltère et met en appétit.\n",
        "Le vin rosé à conseiller doit être sec, corsé, avec une robe rose-rouge qui témoigne de sa charge en matières sèches. Ce type de vin s'accorde avec les légumes et étanche la soif.\n",
        "Le vin rouge offre une large gamme qui va des bourgognes aux bordeaux, en passant par les beaujolais, les côtes-du-rhône-villages, les coteaux-du-languedoc,.\"\"\"\n",
        "sents = annotate(test_text)\n",
        "for sent in sents:\n",
        "    print(sent)\n"
      ],
      "metadata": {
        "colab": {
          "base_uri": "https://localhost:8080/"
        },
        "id": "QIMlLE2ItHUn",
        "outputId": "2fab8542-6db9-430e-e36e-48efb3594184"
      },
      "execution_count": 13,
      "outputs": [
        {
          "output_type": "stream",
          "name": "stdout",
          "text": [
            "[TokenAnnotation(text='Le', lemma='le', pos='DET', dep='det', head=1, sent_id=0), TokenAnnotation(text='pot-au-feu', lemma='pot-au-feu', pos='NOUN', dep='nsubj', head=8, sent_id=0), TokenAnnotation(text='(', lemma='(', pos='PUNCT', dep='punct', head=1, sent_id=0), TokenAnnotation(text='inv', lemma='inv', pos='NOUN', dep='appos', head=1, sent_id=0), TokenAnnotation(text='.', lemma='.', pos='PUNCT', dep='punct', head=1, sent_id=0), TokenAnnotation(text=')', lemma=')', pos='PUNCT', dep='punct', head=1, sent_id=0), TokenAnnotation(text='est', lemma='être', pos='AUX', dep='cop', head=8, sent_id=0), TokenAnnotation(text='une', lemma='un', pos='DET', dep='det', head=8, sent_id=0), TokenAnnotation(text='recette', lemma='recette', pos='NOUN', dep='ROOT', head=8, sent_id=0), TokenAnnotation(text='de', lemma='de', pos='ADP', dep='case', head=10, sent_id=0), TokenAnnotation(text='cuisine', lemma='cuisine', pos='NOUN', dep='nmod', head=8, sent_id=0), TokenAnnotation(text='traditionnelle', lemma='traditionnel', pos='ADJ', dep='amod', head=10, sent_id=0), TokenAnnotation(text='emblématique', lemma='emblématique', pos='ADJ', dep='amod', head=10, sent_id=0), TokenAnnotation(text='historique', lemma='historique', pos='NOUN', dep='amod', head=8, sent_id=0), TokenAnnotation(text='de', lemma='de', pos='ADP', dep='case', head=16, sent_id=0), TokenAnnotation(text='la', lemma='le', pos='DET', dep='det', head=16, sent_id=0), TokenAnnotation(text='cuisine', lemma='cuisine', pos='NOUN', dep='obl:arg', head=13, sent_id=0), TokenAnnotation(text='française', lemma='français', pos='ADJ', dep='amod', head=16, sent_id=0), TokenAnnotation(text=',', lemma=',', pos='PUNCT', dep='punct', head=8, sent_id=0), TokenAnnotation(text='et', lemma='et', pos='CCONJ', dep='cc', head=21, sent_id=0), TokenAnnotation(text='du', lemma='de', pos='ADP', dep='case', head=21, sent_id=0), TokenAnnotation(text='repas', lemma='repas', pos='NOUN', dep='conj', head=8, sent_id=0), TokenAnnotation(text='gastronomique', lemma='gastronomique', pos='ADJ', dep='amod', head=21, sent_id=0), TokenAnnotation(text='des', lemma='de', pos='ADP', dep='case', head=24, sent_id=0), TokenAnnotation(text='Français', lemma='français', pos='NOUN', dep='nmod', head=21, sent_id=0), TokenAnnotation(text=',', lemma=',', pos='PUNCT', dep='punct', head=21, sent_id=0), TokenAnnotation(text='à', lemma='à', pos='ADP', dep='case', head=27, sent_id=0), TokenAnnotation(text='base', lemma='base', pos='NOUN', dep='nmod', head=21, sent_id=0), TokenAnnotation(text='de', lemma='de', pos='ADP', dep='case', head=29, sent_id=0), TokenAnnotation(text='viande', lemma='viande', pos='NOUN', dep='nmod', head=27, sent_id=0), TokenAnnotation(text='de', lemma='de', pos='ADP', dep='case', head=31, sent_id=0), TokenAnnotation(text='bœuf', lemma='bœuf', pos='NOUN', dep='nmod', head=29, sent_id=0), TokenAnnotation(text='cuisant', lemma='cuire', pos='VERB', dep='acl', head=27, sent_id=0), TokenAnnotation(text='longuement', lemma='longuement', pos='ADV', dep='advmod', head=32, sent_id=0), TokenAnnotation(text='à', lemma='à', pos='ADP', dep='case', head=35, sent_id=0), TokenAnnotation(text='feu', lemma='feu', pos='NOUN', dep='obl:arg', head=32, sent_id=0), TokenAnnotation(text='très', lemma='très', pos='ADV', dep='advmod', head=37, sent_id=0), TokenAnnotation(text='doux', lemma='doux', pos='ADJ', dep='amod', head=35, sent_id=0), TokenAnnotation(text='dans', lemma='dans', pos='ADP', dep='case', head=40, sent_id=0), TokenAnnotation(text='un', lemma='un', pos='DET', dep='det', head=40, sent_id=0), TokenAnnotation(text='bouillon', lemma='bouillon', pos='NOUN', dep='nmod', head=21, sent_id=0), TokenAnnotation(text='de', lemma='de', pos='ADP', dep='case', head=42, sent_id=0), TokenAnnotation(text='légumes', lemma='légume', pos='NOUN', dep='nmod', head=40, sent_id=0), TokenAnnotation(text='(', lemma='(', pos='PUNCT', dep='punct', head=21, sent_id=0), TokenAnnotation(text='poireau', lemma='poireau', pos='NOUN', dep='appos', head=21, sent_id=0), TokenAnnotation(text=',', lemma=',', pos='PUNCT', dep='punct', head=46, sent_id=0), TokenAnnotation(text='carotte', lemma='carotte', pos='NOUN', dep='conj', head=44, sent_id=0), TokenAnnotation(text=',', lemma=',', pos='PUNCT', dep='punct', head=21, sent_id=0), TokenAnnotation(text='navet', lemma='navet', pos='NOUN', dep='appos', head=21, sent_id=0), TokenAnnotation(text=',', lemma=',', pos='PUNCT', dep='punct', head=50, sent_id=0), TokenAnnotation(text='oignon', lemma='oignon', pos='NOUN', dep='conj', head=21, sent_id=0), TokenAnnotation(text=',', lemma=',', pos='PUNCT', dep='punct', head=52, sent_id=0), TokenAnnotation(text='céleri', lemma='céleri', pos='PROPN', dep='conj', head=21, sent_id=0), TokenAnnotation(text=',', lemma=',', pos='PUNCT', dep='punct', head=54, sent_id=0), TokenAnnotation(text='chou', lemma='chou', pos='NOUN', dep='conj', head=21, sent_id=0), TokenAnnotation(text='et', lemma='et', pos='CCONJ', dep='cc', head=56, sent_id=0), TokenAnnotation(text='bouquet', lemma='bouquet', pos='NOUN', dep='conj', head=21, sent_id=0), TokenAnnotation(text='garni', lemma='garni', pos='ADJ', dep='amod', head=56, sent_id=0), TokenAnnotation(text=')', lemma=')', pos='PUNCT', dep='punct', head=21, sent_id=0), TokenAnnotation(text='.', lemma='.', pos='PUNCT', dep='punct', head=8, sent_id=0)]\n",
            "[TokenAnnotation(text='La', lemma='le', pos='DET', dep='det', head=1, sent_id=1), TokenAnnotation(text='présence', lemma='présence', pos='NOUN', dep='nsubj:pass', head=7, sent_id=1), TokenAnnotation(text='de', lemma='de', pos='ADP', dep='case', head=3, sent_id=1), TokenAnnotation(text='pommes', lemma='pomme', pos='NOUN', dep='nmod', head=1, sent_id=1), TokenAnnotation(text='de', lemma='de', pos='ADP', dep='case', head=5, sent_id=1), TokenAnnotation(text='terre', lemma='terre', pos='NOUN', dep='nmod', head=3, sent_id=1), TokenAnnotation(text='est', lemma='être', pos='AUX', dep='aux:pass', head=7, sent_id=1), TokenAnnotation(text='discutée', lemma='discuter', pos='VERB', dep='ROOT', head=7, sent_id=1), TokenAnnotation(text=',', lemma=',', pos='PUNCT', dep='punct', head=7, sent_id=1), TokenAnnotation(text='puisqu’', lemma='puisqu’', pos='SCONJ', dep='mark', head=12, sent_id=1), TokenAnnotation(text='elles', lemma='lui', pos='PRON', dep='nsubj', head=12, sent_id=1), TokenAnnotation(text='ne', lemma='ne', pos='ADV', dep='advmod', head=12, sent_id=1), TokenAnnotation(text='faisaient', lemma='faire', pos='VERB', dep='advcl', head=7, sent_id=1), TokenAnnotation(text='pas', lemma='pas', pos='ADV', dep='advmod', head=12, sent_id=1), TokenAnnotation(text='partie', lemma='partie', pos='NOUN', dep='obj', head=12, sent_id=1), TokenAnnotation(text='de', lemma='de', pos='ADP', dep='case', head=17, sent_id=1), TokenAnnotation(text='la', lemma='le', pos='DET', dep='det', head=17, sent_id=1), TokenAnnotation(text='recette', lemma='recette', pos='NOUN', dep='obl:arg', head=12, sent_id=1), TokenAnnotation(text='d’', lemma='d’', pos='ADP', dep='case', head=19, sent_id=1), TokenAnnotation(text='origine', lemma='origine', pos='NOUN', dep='nmod', head=17, sent_id=1), TokenAnnotation(text=',', lemma=',', pos='PUNCT', dep='punct', head=22, sent_id=1), TokenAnnotation(text='la', lemma='le', pos='DET', dep='det', head=22, sent_id=1), TokenAnnotation(text='pomme', lemma='pomme', pos='NOUN', dep='obl:mod', head=12, sent_id=1), TokenAnnotation(text='de', lemma='de', pos='ADP', dep='case', head=24, sent_id=1), TokenAnnotation(text='terre', lemma='terre', pos='NOUN', dep='nmod', head=22, sent_id=1), TokenAnnotation(text='n’', lemma='n’', pos='ADV', dep='advmod', head=28, sent_id=1), TokenAnnotation(text='ayant', lemma='avoir', pos='AUX', dep='aux:tense', head=28, sent_id=1), TokenAnnotation(text='été', lemma='être', pos='AUX', dep='aux:pass', head=28, sent_id=1), TokenAnnotation(text='introduite', lemma='introduire', pos='VERB', dep='conj', head=12, sent_id=1), TokenAnnotation(text='en', lemma='en', pos='ADP', dep='case', head=30, sent_id=1), TokenAnnotation(text='France', lemma='France', pos='PROPN', dep='obl:arg', head=28, sent_id=1), TokenAnnotation(text='par', lemma='par', pos='ADP', dep='case', head=32, sent_id=1), TokenAnnotation(text='Antoine', lemma='Antoine', pos='PROPN', dep='obl:agent', head=28, sent_id=1), TokenAnnotation(text='Parmentier', lemma='Parmentier', pos='PROPN', dep='flat:name', head=32, sent_id=1), TokenAnnotation(text='qu’', lemma='qu’', pos='SCONJ', dep='advmod', head=37, sent_id=1), TokenAnnotation(text='à', lemma='à', pos='ADP', dep='case', head=37, sent_id=1), TokenAnnotation(text='la', lemma='le', pos='DET', dep='det', head=37, sent_id=1), TokenAnnotation(text='fin', lemma='fin', pos='NOUN', dep='obl:mod', head=28, sent_id=1), TokenAnnotation(text='du', lemma='de', pos='ADP', dep='case', head=40, sent_id=1), TokenAnnotation(text='XVIIIe', lemma='xviii', pos='ADJ', dep='amod', head=40, sent_id=1), TokenAnnotation(text='siècle', lemma='siècle', pos='NOUN', dep='nmod', head=37, sent_id=1), TokenAnnotation(text='.', lemma='.', pos='PUNCT', dep='punct', head=7, sent_id=1)]\n",
            "[TokenAnnotation(text='Historiquement', lemma='historiquement', pos='ADV', dep='advmod', head=6, sent_id=2), TokenAnnotation(text=',', lemma=',', pos='PUNCT', dep='punct', head=6, sent_id=2), TokenAnnotation(text='c’', lemma='c’', pos='PRON', dep='expl:subj', head=6, sent_id=2), TokenAnnotation(text='est', lemma='être', pos='AUX', dep='cop', head=6, sent_id=2), TokenAnnotation(text='plutôt', lemma='plutôt', pos='ADV', dep='advmod', head=6, sent_id=2), TokenAnnotation(text='le', lemma='le', pos='DET', dep='det', head=6, sent_id=2), TokenAnnotation(text='panais', lemma='panais', pos='NOUN', dep='ROOT', head=6, sent_id=2), TokenAnnotation(text='qui', lemma='qui', pos='PRON', dep='nsubj', head=8, sent_id=2), TokenAnnotation(text='jouait', lemma='jouer', pos='VERB', dep='acl:relcl', head=6, sent_id=2), TokenAnnotation(text='son', lemma='son', pos='DET', dep='det', head=10, sent_id=2), TokenAnnotation(text='rôle', lemma='rôle', pos='NOUN', dep='obj', head=8, sent_id=2), TokenAnnotation(text='.', lemma='.', pos='PUNCT', dep='punct', head=6, sent_id=2), TokenAnnotation(text='\\n', lemma='\\n', pos='SPACE', dep='dep', head=11, sent_id=2)]\n",
            "[TokenAnnotation(text='Historique', lemma='historique', pos='NOUN', dep='dep', head=6, sent_id=3), TokenAnnotation(text='\\n', lemma='\\n', pos='SPACE', dep='dep', head=0, sent_id=3), TokenAnnotation(text='Jean', lemma='Jean', pos='PROPN', dep='appos', head=0, sent_id=3), TokenAnnotation(text='Louis', lemma='Louis', pos='PROPN', dep='flat:name', head=2, sent_id=3), TokenAnnotation(text='Schefer', lemma='Schefer', pos='PROPN', dep='flat:name', head=3, sent_id=3), TokenAnnotation(text='fait', lemma='faire', pos='AUX', dep='dep', head=6, sent_id=3), TokenAnnotation(text='remonter', lemma='remonter', pos='VERB', dep='ROOT', head=6, sent_id=3), TokenAnnotation(text='le', lemma='le', pos='DET', dep='det', head=8, sent_id=3), TokenAnnotation(text='pot-au-feu', lemma='pot-au-feu', pos='NOUN', dep='obj', head=6, sent_id=3), TokenAnnotation(text='au', lemma='au', pos='ADP', dep='case', head=10, sent_id=3), TokenAnnotation(text='rêve', lemma='rêve', pos='NOUN', dep='obl:arg', head=6, sent_id=3), TokenAnnotation(text='néolithique', lemma='néolithique', pos='ADJ', dep='amod', head=10, sent_id=3), TokenAnnotation(text=',', lemma=',', pos='PUNCT', dep='punct', head=6, sent_id=3), TokenAnnotation(text='«', lemma='«', pos='PUNCT', dep='punct', head=6, sent_id=3), TokenAnnotation(text='celui', lemma='celui', pos='ADJ', dep='parataxis', head=6, sent_id=3), TokenAnnotation(text='du', lemma='de', pos='ADP', dep='case', head=16, sent_id=3), TokenAnnotation(text='foyer', lemma='foyer', pos='NOUN', dep='nmod', head=14, sent_id=3), TokenAnnotation(text=',', lemma=',', pos='PUNCT', dep='punct', head=14, sent_id=3), TokenAnnotation(text='du', lemma='de', pos='ADP', dep='case', head=19, sent_id=3), TokenAnnotation(text='vase', lemma='vase', pos='NOUN', dep='nmod', head=14, sent_id=3), TokenAnnotation(text=\"d'\", lemma='de', pos='ADP', dep='case', head=21, sent_id=3), TokenAnnotation(text='argile', lemma='argile', pos='NOUN', dep='nmod', head=19, sent_id=3), TokenAnnotation(text=',', lemma=',', pos='PUNCT', dep='punct', head=14, sent_id=3), TokenAnnotation(text='du', lemma='de', pos='ADP', dep='case', head=24, sent_id=3), TokenAnnotation(text='pot', lemma='pot', pos='NOUN', dep='nmod', head=14, sent_id=3), TokenAnnotation(text='mis', lemma='mettre', pos='VERB', dep='acl', head=24, sent_id=3), TokenAnnotation(text='au', lemma='au', pos='ADP', dep='case', head=27, sent_id=3), TokenAnnotation(text='feu', lemma='feu', pos='NOUN', dep='obl:arg', head=25, sent_id=3), TokenAnnotation(text=',', lemma=',', pos='PUNCT', dep='punct', head=31, sent_id=3), TokenAnnotation(text='de', lemma='de', pos='ADP', dep='case', head=31, sent_id=3), TokenAnnotation(text='la', lemma='le', pos='DET', dep='det', head=31, sent_id=3), TokenAnnotation(text='soif', lemma='soif', pos='NOUN', dep='conj', head=24, sent_id=3), TokenAnnotation(text='étanchée', lemma='étancher', pos='ADJ', dep='amod', head=31, sent_id=3), TokenAnnotation(text=',', lemma=',', pos='PUNCT', dep='punct', head=36, sent_id=3), TokenAnnotation(text='de', lemma='de', pos='ADP', dep='case', head=36, sent_id=3), TokenAnnotation(text='la', lemma='le', pos='DET', dep='det', head=36, sent_id=3), TokenAnnotation(text='faim', lemma='faim', pos='NOUN', dep='conj', head=24, sent_id=3), TokenAnnotation(text='apaisée', lemma='apaiser', pos='ADJ', dep='amod', head=36, sent_id=3), TokenAnnotation(text='…', lemma='…', pos='PUNCT', dep='punct', head=14, sent_id=3), TokenAnnotation(text='»', lemma='»', pos='PUNCT', dep='punct', head=6, sent_id=3), TokenAnnotation(text=',', lemma=',', pos='PUNCT', dep='punct', head=6, sent_id=3), TokenAnnotation(text='origine', lemma='origine', pos='NOUN', dep='advcl', head=6, sent_id=3), TokenAnnotation(text='reprise', lemma='reprendre', pos='VERB', dep='acl', head=41, sent_id=3), TokenAnnotation(text='par', lemma='par', pos='ADP', dep='case', head=45, sent_id=3), TokenAnnotation(text='le', lemma='le', pos='DET', dep='det', head=45, sent_id=3), TokenAnnotation(text='restaurant', lemma='restaurant', pos='NOUN', dep='obl:agent', head=41, sent_id=3), TokenAnnotation(text='À', lemma='à', pos='ADP', dep='case', head=48, sent_id=3), TokenAnnotation(text='la', lemma='le', pos='DET', dep='det', head=48, sent_id=3), TokenAnnotation(text='Cloche', lemma='cloche', pos='NOUN', dep='nmod', head=45, sent_id=3), TokenAnnotation(text=\"d'\", lemma='de', pos='ADP', dep='case', head=50, sent_id=3), TokenAnnotation(text='or', lemma='or', pos='NOUN', dep='nmod', head=48, sent_id=3), TokenAnnotation(text=':', lemma=':', pos='PUNCT', dep='punct', head=45, sent_id=3), TokenAnnotation(text='«', lemma='«', pos='PUNCT', dep='punct', head=45, sent_id=3), TokenAnnotation(text='Pot-au-feu', lemma='pot-au-feu', pos='NOUN', dep='nsubj', head=54, sent_id=3), TokenAnnotation(text='désigne', lemma='désigner', pos='VERB', dep='conj', head=6, sent_id=3), TokenAnnotation(text='à', lemma='à', pos='ADP', dep='case', head=57, sent_id=3), TokenAnnotation(text='la', lemma='le', pos='DET', dep='det', head=57, sent_id=3), TokenAnnotation(text='base', lemma='base', pos='NOUN', dep='obl:arg', head=54, sent_id=3), TokenAnnotation(text='le', lemma='le', pos='DET', dep='det', head=60, sent_id=3), TokenAnnotation(text='«', lemma='«', pos='PUNCT', dep='punct', head=60, sent_id=3), TokenAnnotation(text='pot', lemma='pot', pos='NOUN', dep='obj', head=54, sent_id=3), TokenAnnotation(text='à', lemma='à', pos='ADP', dep='case', head=62, sent_id=3), TokenAnnotation(text='feu', lemma='feu', pos='NOUN', dep='nmod', head=60, sent_id=3), TokenAnnotation(text='»', lemma='»', pos='PUNCT', dep='punct', head=54, sent_id=3), TokenAnnotation(text=',', lemma=',', pos='PUNCT', dep='punct', head=54, sent_id=3), TokenAnnotation(text='le', lemma='le', pos='DET', dep='det', head=66, sent_id=3), TokenAnnotation(text='pot', lemma='pot', pos='NOUN', dep='obj', head=54, sent_id=3), TokenAnnotation(text='dans', lemma='dans', pos='ADP', dep='case', head=68, sent_id=3), TokenAnnotation(text='lequel', lemma='lequel', pos='PRON', dep='obl:mod', head=70, sent_id=3), TokenAnnotation(text='on', lemma='on', pos='PRON', dep='nsubj', head=70, sent_id=3), TokenAnnotation(text='faisait', lemma='faire', pos='VERB', dep='acl:relcl', head=66, sent_id=3), TokenAnnotation(text='revenir', lemma='revenir', pos='VERB', dep='xcomp', head=70, sent_id=3), TokenAnnotation(text='un', lemma='un', pos='DET', dep='det', head=73, sent_id=3), TokenAnnotation(text='bouillon', lemma='bouillon', pos='NOUN', dep='obj', head=71, sent_id=3), TokenAnnotation(text='aromatique', lemma='aromatique', pos='ADJ', dep='amod', head=73, sent_id=3), TokenAnnotation(text='auquel', lemma='auquel', pos='PRON', dep='iobj', head=77, sent_id=3), TokenAnnotation(text='on', lemma='on', pos='PRON', dep='nsubj', head=77, sent_id=3), TokenAnnotation(text='ajoutait', lemma='ajouter', pos='VERB', dep='acl:relcl', head=73, sent_id=3), TokenAnnotation(text='viandes', lemma='viande', pos='NOUN', dep='obj', head=77, sent_id=3), TokenAnnotation(text='et', lemma='et', pos='CCONJ', dep='cc', head=80, sent_id=3), TokenAnnotation(text='légumes', lemma='légume', pos='NOUN', dep='conj', head=78, sent_id=3), TokenAnnotation(text='»', lemma='»', pos='PUNCT', dep='punct', head=54, sent_id=3), TokenAnnotation(text='.', lemma='.', pos='PUNCT', dep='punct', head=6, sent_id=3)]\n",
            "[TokenAnnotation(text='Jean', lemma='Jean', pos='PROPN', dep='nsubj', head=2, sent_id=4), TokenAnnotation(text='Guillaume', lemma='Guillaume', pos='PROPN', dep='flat:name', head=0, sent_id=4), TokenAnnotation(text='pense', lemma='penser', pos='VERB', dep='ROOT', head=2, sent_id=4), TokenAnnotation(text=\"qu'\", lemma='que', pos='SCONJ', dep='mark', head=13, sent_id=4), TokenAnnotation(text='à', lemma='à', pos='ADP', dep='case', head=6, sent_id=4), TokenAnnotation(text=\"l'\", lemma='le', pos='DET', dep='det', head=6, sent_id=4), TokenAnnotation(text='origine', lemma='origine', pos='NOUN', dep='obl:mod', head=13, sent_id=4), TokenAnnotation(text='de', lemma='de', pos='ADP', dep='case', head=9, sent_id=4), TokenAnnotation(text=\"l'\", lemma='le', pos='DET', dep='det', head=9, sent_id=4), TokenAnnotation(text='agriculture', lemma='agriculture', pos='NOUN', dep='nmod', head=6, sent_id=4), TokenAnnotation(text='les', lemma='le', pos='DET', dep='det', head=11, sent_id=4), TokenAnnotation(text='raves', lemma='rave', pos='NOUN', dep='nmod', head=9, sent_id=4), TokenAnnotation(text='sont', lemma='être', pos='AUX', dep='aux:tense', head=13, sent_id=4), TokenAnnotation(text='venues', lemma='venir', pos='VERB', dep='ccomp', head=2, sent_id=4), TokenAnnotation(text='compléter', lemma='compléter', pos='VERB', dep='xcomp', head=13, sent_id=4), TokenAnnotation(text='les', lemma='le', pos='DET', dep='det', head=16, sent_id=4), TokenAnnotation(text='herbes', lemma='herbe', pos='NOUN', dep='obj', head=14, sent_id=4), TokenAnnotation(text='dans', lemma='dans', pos='ADP', dep='case', head=19, sent_id=4), TokenAnnotation(text='les', lemma='le', pos='DET', dep='det', head=19, sent_id=4), TokenAnnotation(text='bouillons', lemma='bouillon', pos='NOUN', dep='obl:mod', head=14, sent_id=4), TokenAnnotation(text=',', lemma=',', pos='PUNCT', dep='punct', head=24, sent_id=4), TokenAnnotation(text='«', lemma='«', pos='PUNCT', dep='punct', head=24, sent_id=4), TokenAnnotation(text='on', lemma='on', pos='PRON', dep='nsubj', head=24, sent_id=4), TokenAnnotation(text='y', lemma='y', pos='PRON', dep='iobj', head=24, sent_id=4), TokenAnnotation(text='ajoutait', lemma='ajouter', pos='VERB', dep='ccomp', head=2, sent_id=4), TokenAnnotation(text='du', lemma='de', pos='ADP', dep='case', head=26, sent_id=4), TokenAnnotation(text='pain', lemma='pain', pos='NOUN', dep='obl:arg', head=24, sent_id=4), TokenAnnotation(text='pour', lemma='pour', pos='ADP', dep='mark', head=28, sent_id=4), TokenAnnotation(text='faire', lemma='faire', pos='VERB', dep='advcl', head=24, sent_id=4), TokenAnnotation(text='la', lemma='le', pos='DET', dep='det', head=30, sent_id=4), TokenAnnotation(text='soupe', lemma='soupe', pos='NOUN', dep='obj', head=28, sent_id=4), TokenAnnotation(text='et', lemma='et', pos='CCONJ', dep='cc', head=34, sent_id=4), TokenAnnotation(text='de', lemma='de', pos='ADP', dep='case', head=34, sent_id=4), TokenAnnotation(text='la', lemma='le', pos='DET', dep='det', head=34, sent_id=4), TokenAnnotation(text='viande', lemma='viande', pos='NOUN', dep='conj', head=30, sent_id=4), TokenAnnotation(text='pour', lemma='pour', pos='ADP', dep='case', head=38, sent_id=4), TokenAnnotation(text='les', lemma='le', pos='DET', dep='det', head=38, sent_id=4), TokenAnnotation(text='grands', lemma='grand', pos='ADJ', dep='amod', head=38, sent_id=4), TokenAnnotation(text='jours', lemma='jour', pos='NOUN', dep='obl:mod', head=28, sent_id=4), TokenAnnotation(text='»', lemma='»', pos='PUNCT', dep='punct', head=24, sent_id=4), TokenAnnotation(text='.', lemma='.', pos='PUNCT', dep='punct', head=2, sent_id=4), TokenAnnotation(text='\\n', lemma='\\n', pos='SPACE', dep='dep', head=40, sent_id=4)]\n",
            "[TokenAnnotation(text='Au', lemma='au', pos='ADP', dep='case', head=2, sent_id=5), TokenAnnotation(text='XIIIe', lemma='xiii', pos='ADJ', dep='amod', head=2, sent_id=5), TokenAnnotation(text='siècle', lemma='siècle', pos='NOUN', dep='obl:mod', head=6, sent_id=5), TokenAnnotation(text=',', lemma=',', pos='PUNCT', dep='punct', head=6, sent_id=5), TokenAnnotation(text='il', lemma='il', pos='PRON', dep='nsubj:pass', head=6, sent_id=5), TokenAnnotation(text='est', lemma='être', pos='AUX', dep='aux:pass', head=6, sent_id=5), TokenAnnotation(text='appelé', lemma='appeler', pos='VERB', dep='ROOT', head=6, sent_id=5), TokenAnnotation(text='«', lemma='«', pos='PUNCT', dep='punct', head=6, sent_id=5), TokenAnnotation(text='viande', lemma='viande', pos='NOUN', dep='xcomp', head=6, sent_id=5), TokenAnnotation(text='au', lemma='au', pos='ADP', dep='case', head=10, sent_id=5), TokenAnnotation(text='pot', lemma='pot', pos='NOUN', dep='nmod', head=8, sent_id=5), TokenAnnotation(text='»', lemma='»', pos='PUNCT', dep='punct', head=6, sent_id=5), TokenAnnotation(text='.', lemma='.', pos='PUNCT', dep='punct', head=6, sent_id=5)]\n",
            "[TokenAnnotation(text='Autrefois', lemma='autrefoi', pos='NOUN', dep='advmod', head=6, sent_id=6), TokenAnnotation(text=',', lemma=',', pos='PUNCT', dep='punct', head=6, sent_id=6), TokenAnnotation(text='la', lemma='le', pos='DET', dep='det', head=3, sent_id=6), TokenAnnotation(text='cuisson', lemma='cuisson', pos='NOUN', dep='nsubj', head=6, sent_id=6), TokenAnnotation(text='du', lemma='de', pos='ADP', dep='case', head=5, sent_id=6), TokenAnnotation(text='pot-au-feu', lemma='pot-au-feu', pos='NOUN', dep='nmod', head=3, sent_id=6), TokenAnnotation(text='pouvait', lemma='pouvoir', pos='VERB', dep='ROOT', head=6, sent_id=6), TokenAnnotation(text='s’', lemma='s’', pos='PRON', dep='expl:comp', head=8, sent_id=6), TokenAnnotation(text='effectuer', lemma='effectuer', pos='VERB', dep='xcomp', head=6, sent_id=6), TokenAnnotation(text='de', lemma='de', pos='ADP', dep='case', head=10, sent_id=6), TokenAnnotation(text='façon', lemma='façon', pos='NOUN', dep='obl:mod', head=11, sent_id=6), TokenAnnotation(text='continue', lemma='continuer', pos='VERB', dep='ccomp', head=8, sent_id=6), TokenAnnotation(text=',', lemma=',', pos='PUNCT', dep='punct', head=17, sent_id=6), TokenAnnotation(text='de', lemma='de', pos='DET', dep='det', head=15, sent_id=6), TokenAnnotation(text='nouveaux', lemma='nouveau', pos='ADJ', dep='amod', head=15, sent_id=6), TokenAnnotation(text='ingrédients', lemma='ingrédient', pos='NOUN', dep='nsubj:pass', head=17, sent_id=6), TokenAnnotation(text='étant', lemma='être', pos='AUX', dep='aux:pass', head=17, sent_id=6), TokenAnnotation(text='rajoutés', lemma='rajouter', pos='VERB', dep='advcl', head=6, sent_id=6), TokenAnnotation(text='au', lemma='au', pos='ADP', dep='advmod', head=17, sent_id=6), TokenAnnotation(text='fur', lemma='fur', pos='NOUN', dep='fixed', head=18, sent_id=6), TokenAnnotation(text='et', lemma='et', pos='CCONJ', dep='fixed', head=18, sent_id=6), TokenAnnotation(text='à', lemma='à', pos='ADP', dep='fixed', head=18, sent_id=6), TokenAnnotation(text='mesure', lemma='mesure', pos='NOUN', dep='fixed', head=18, sent_id=6), TokenAnnotation(text='pour', lemma='pour', pos='ADP', dep='mark', head=24, sent_id=6), TokenAnnotation(text='remplacer', lemma='remplacer', pos='VERB', dep='advcl', head=18, sent_id=6), TokenAnnotation(text='ceux', lemma='celui', pos='PRON', dep='obj', head=24, sent_id=6), TokenAnnotation(text='qui', lemma='qui', pos='PRON', dep='nsubj:pass', head=28, sent_id=6), TokenAnnotation(text='étaient', lemma='être', pos='AUX', dep='aux:pass', head=28, sent_id=6), TokenAnnotation(text='retirés', lemma='retirer', pos='VERB', dep='acl:relcl', head=25, sent_id=6), TokenAnnotation(text='afin', lemma='afin', pos='ADV', dep='advmod', head=28, sent_id=6), TokenAnnotation(text='d’', lemma='d’', pos='ADP', dep='case', head=32, sent_id=6), TokenAnnotation(text='être', lemma='être', pos='AUX', dep='aux:pass', head=32, sent_id=6), TokenAnnotation(text='consommés', lemma='consommer', pos='VERB', dep='obl:arg', head=29, sent_id=6), TokenAnnotation(text='.', lemma='.', pos='PUNCT', dep='punct', head=6, sent_id=6)]\n",
            "[TokenAnnotation(text='À', lemma='à', pos='ADP', dep='case', head=1, sent_id=7), TokenAnnotation(text='présent', lemma='présent', pos='NOUN', dep='obl:mod', head=19, sent_id=7), TokenAnnotation(text='que', lemma='que', pos='SCONJ', dep='mark', head=6, sent_id=7), TokenAnnotation(text='les', lemma='le', pos='DET', dep='det', head=4, sent_id=7), TokenAnnotation(text='maisons', lemma='maison', pos='NOUN', dep='nsubj', head=6, sent_id=7), TokenAnnotation(text='n’', lemma='n’', pos='ADV', dep='advmod', head=6, sent_id=7), TokenAnnotation(text='ont', lemma='avoir', pos='VERB', dep='advcl', head=19, sent_id=7), TokenAnnotation(text='plus', lemma='plus', pos='ADV', dep='advmod', head=6, sent_id=7), TokenAnnotation(text='un', lemma='un', pos='DET', dep='det', head=9, sent_id=7), TokenAnnotation(text='feu', lemma='feu', pos='NOUN', dep='obj', head=6, sent_id=7), TokenAnnotation(text='de', lemma='de', pos='ADP', dep='case', head=11, sent_id=7), TokenAnnotation(text='bois', lemma='bois', pos='NOUN', dep='nmod', head=9, sent_id=7), TokenAnnotation(text='allumé', lemma='allumer', pos='VERB', dep='acl', head=9, sent_id=7), TokenAnnotation(text='en', lemma='en', pos='ADP', dep='case', head=14, sent_id=7), TokenAnnotation(text='continu', lemma='continu', pos='NOUN', dep='obl:mod', head=12, sent_id=7), TokenAnnotation(text=',', lemma=',', pos='PUNCT', dep='punct', head=19, sent_id=7), TokenAnnotation(text='le', lemma='le', pos='DET', dep='det', head=17, sent_id=7), TokenAnnotation(text='pot-au-feu', lemma='pot-au-feu', pos='NOUN', dep='nsubj:pass', head=19, sent_id=7), TokenAnnotation(text='est', lemma='être', pos='AUX', dep='aux:pass', head=19, sent_id=7), TokenAnnotation(text='cuisiné', lemma='cuisiner', pos='VERB', dep='ROOT', head=19, sent_id=7), TokenAnnotation(text='spécifiquement', lemma='spécifiquement', pos='ADV', dep='advmod', head=19, sent_id=7), TokenAnnotation(text='en', lemma='en', pos='ADP', dep='case', head=22, sent_id=7), TokenAnnotation(text='vue', lemma='vue', pos='NOUN', dep='obl:mod', head=19, sent_id=7), TokenAnnotation(text='d’', lemma='d’', pos='ADP', dep='case', head=25, sent_id=7), TokenAnnotation(text='un', lemma='un', pos='DET', dep='det', head=25, sent_id=7), TokenAnnotation(text='repas', lemma='repas', pos='NOUN', dep='nmod', head=22, sent_id=7), TokenAnnotation(text='.', lemma='.', pos='PUNCT', dep='punct', head=19, sent_id=7)]\n",
            "[TokenAnnotation(text='\\n', lemma='\\n', pos='SPACE', dep='dep', head=0, sent_id=8)]\n",
            "[TokenAnnotation(text='Marcel', lemma='Marcel', pos='PROPN', dep='ROOT', head=0, sent_id=9), TokenAnnotation(text='Rouff', lemma='Rouff', pos='PROPN', dep='flat:name', head=0, sent_id=9), TokenAnnotation(text=',', lemma=',', pos='PUNCT', dep='punct', head=0, sent_id=9)]\n",
            "[TokenAnnotation(text='dans', lemma='dans', pos='ADP', dep='case', head=2, sent_id=10), TokenAnnotation(text='son', lemma='son', pos='DET', dep='det', head=2, sent_id=10), TokenAnnotation(text='roman', lemma='roman', pos='NOUN', dep='obl:mod', head=16, sent_id=10), TokenAnnotation(text='Vie', lemma='vie', pos='NOUN', dep='nmod', head=2, sent_id=10), TokenAnnotation(text='et', lemma='et', pos='CCONJ', dep='cc', head=5, sent_id=10), TokenAnnotation(text='Passion', lemma='passion', pos='NOUN', dep='conj', head=2, sent_id=10), TokenAnnotation(text='de', lemma='de', pos='ADP', dep='case', head=7, sent_id=10), TokenAnnotation(text='Dodin', lemma='Dodin', pos='PROPN', dep='nmod', head=2, sent_id=10), TokenAnnotation(text='-', lemma='-', pos='PROPN', dep='nmod', head=2, sent_id=10), TokenAnnotation(text='Bouffant', lemma='bouffant', pos='ADJ', dep='nmod', head=2, sent_id=10), TokenAnnotation(text=',', lemma=',', pos='PUNCT', dep='punct', head=2, sent_id=10), TokenAnnotation(text='gourmet', lemma='gourmet', pos='PROPN', dep='nmod', head=2, sent_id=10), TokenAnnotation(text='(', lemma='(', pos='PUNCT', dep='punct', head=2, sent_id=10), TokenAnnotation(text='1924', lemma='1924', pos='NUM', dep='appos', head=2, sent_id=10), TokenAnnotation(text=')', lemma=')', pos='PUNCT', dep='punct', head=2, sent_id=10), TokenAnnotation(text='a', lemma='avoir', pos='AUX', dep='aux:tense', head=16, sent_id=10), TokenAnnotation(text='décrit', lemma='décrire', pos='VERB', dep='ROOT', head=16, sent_id=10), TokenAnnotation(text='un', lemma='un', pos='DET', dep='det', head=18, sent_id=10), TokenAnnotation(text='pot-au-feu', lemma='pot-au-feu', pos='NOUN', dep='obj', head=16, sent_id=10), TokenAnnotation(text='devenu', lemma='devenir', pos='VERB', dep='acl', head=18, sent_id=10), TokenAnnotation(text='mythique', lemma='mythique', pos='ADJ', dep='xcomp', head=19, sent_id=10), TokenAnnotation(text=',', lemma=',', pos='PUNCT', dep='punct', head=18, sent_id=10), TokenAnnotation(text='qui', lemma='qui', pos='PRON', dep='nsubj', head=24, sent_id=10), TokenAnnotation(text='a', lemma='avoir', pos='AUX', dep='aux:tense', head=24, sent_id=10), TokenAnnotation(text='inspiré', lemma='inspirer', pos='VERB', dep='acl:relcl', head=18, sent_id=10), TokenAnnotation(text='des', lemma='un', pos='DET', dep='det', head=26, sent_id=10), TokenAnnotation(text='pots-au-feu', lemma='pots-au-feu', pos='NOUN', dep='obj', head=24, sent_id=10), TokenAnnotation(text='démesurés', lemma='démesuré', pos='ADJ', dep='xcomp', head=24, sent_id=10), TokenAnnotation(text='à', lemma='à', pos='ADP', dep='case', head=31, sent_id=10), TokenAnnotation(text='de', lemma='de', pos='DET', dep='det', head=31, sent_id=10), TokenAnnotation(text='nombreux', lemma='nombreux', pos='ADJ', dep='amod', head=31, sent_id=10), TokenAnnotation(text='chefs', lemma='chef', pos='NOUN', dep='obl:mod', head=24, sent_id=10), TokenAnnotation(text='.', lemma='.', pos='PUNCT', dep='punct', head=16, sent_id=10), TokenAnnotation(text='\\n', lemma='\\n', pos='SPACE', dep='dep', head=32, sent_id=10)]\n",
            "[TokenAnnotation(text='Composition', lemma='composition', pos='NOUN', dep='ROOT', head=0, sent_id=11), TokenAnnotation(text='\\n', lemma='\\n', pos='SPACE', dep='dep', head=0, sent_id=11)]\n",
            "[TokenAnnotation(text='Les', lemma='le', pos='DET', dep='det', head=1, sent_id=12), TokenAnnotation(text='coupes', lemma='coupe', pos='NOUN', dep='nsubj', head=8, sent_id=12), TokenAnnotation(text='de', lemma='de', pos='ADP', dep='case', head=3, sent_id=12), TokenAnnotation(text='bœuf', lemma='bœuf', pos='NOUN', dep='nmod', head=1, sent_id=12), TokenAnnotation(text='et', lemma='et', pos='CCONJ', dep='cc', head=6, sent_id=12), TokenAnnotation(text='les', lemma='le', pos='DET', dep='det', head=6, sent_id=12), TokenAnnotation(text='légumes', lemma='légume', pos='NOUN', dep='nsubj', head=8, sent_id=12), TokenAnnotation(text='impliqués', lemma='impliquer', pos='VERB', dep='acl', head=6, sent_id=12), TokenAnnotation(text='varient', lemma='varier', pos='VERB', dep='ROOT', head=8, sent_id=12), TokenAnnotation(text=',', lemma=',', pos='PUNCT', dep='punct', head=8, sent_id=12), TokenAnnotation(text='mais', lemma='mais', pos='CCONJ', dep='cc', head=14, sent_id=12), TokenAnnotation(text='un', lemma='un', pos='DET', dep='det', head=12, sent_id=12), TokenAnnotation(text='pot-au-feu', lemma='pot-au-feu', pos='NOUN', dep='nsubj', head=14, sent_id=12), TokenAnnotation(text='typique', lemma='typique', pos='ADJ', dep='amod', head=12, sent_id=12), TokenAnnotation(text='contient', lemma='contenir', pos='VERB', dep='advcl', head=36, sent_id=12), TokenAnnotation(text=':', lemma=':', pos='PUNCT', dep='punct', head=14, sent_id=12), TokenAnnotation(text='\\n', lemma='\\n', pos='SPACE', dep='dep', head=15, sent_id=12), TokenAnnotation(text='des', lemma='de', pos='ADP', dep='case', head=18, sent_id=12), TokenAnnotation(text='coupes', lemma='coupe', pos='NOUN', dep='obj', head=14, sent_id=12), TokenAnnotation(text='de', lemma='de', pos='ADP', dep='case', head=20, sent_id=12), TokenAnnotation(text='bœuf', lemma='bœuf', pos='NOUN', dep='nmod', head=18, sent_id=12), TokenAnnotation(text='à', lemma='à', pos='ADP', dep='case', head=23, sent_id=12), TokenAnnotation(text='faible', lemma='faible', pos='ADJ', dep='amod', head=23, sent_id=12), TokenAnnotation(text='coût', lemma='coût', pos='NOUN', dep='nmod', head=18, sent_id=12), TokenAnnotation(text='nécessitant', lemma='nécessiter', pos='VERB', dep='acl', head=23, sent_id=12), TokenAnnotation(text='une', lemma='un', pos='DET', dep='det', head=27, sent_id=12), TokenAnnotation(text='longue', lemma='long', pos='ADJ', dep='amod', head=27, sent_id=12), TokenAnnotation(text='cuisson', lemma='cuisson', pos='NOUN', dep='obj', head=24, sent_id=12), TokenAnnotation(text=':', lemma=':', pos='PUNCT', dep='punct', head=27, sent_id=12), TokenAnnotation(text='gîte', lemma='gîte', pos='NOUN', dep='appos', head=27, sent_id=12), TokenAnnotation(text=',', lemma=',', pos='PUNCT', dep='punct', head=29, sent_id=12), TokenAnnotation(text='gîte', lemma='gîte', pos='NOUN', dep='appos', head=29, sent_id=12), TokenAnnotation(text='à', lemma='à', pos='ADP', dep='case', head=34, sent_id=12), TokenAnnotation(text='la', lemma='le', pos='DET', dep='det', head=34, sent_id=12), TokenAnnotation(text='noix', lemma='noix', pos='NOUN', dep='nmod', head=31, sent_id=12), TokenAnnotation(text=',', lemma=',', pos='PUNCT', dep='punct', head=36, sent_id=12), TokenAnnotation(text='joue', lemma='joue', pos='VERB', dep='parataxis', head=8, sent_id=12), TokenAnnotation(text='de', lemma='de', pos='ADP', dep='case', head=38, sent_id=12), TokenAnnotation(text='bœuf', lemma='bœuf', pos='NOUN', dep='obj', head=36, sent_id=12), TokenAnnotation(text=',', lemma=',', pos='PUNCT', dep='punct', head=36, sent_id=12), TokenAnnotation(text='jarret', lemma='jarret', pos='NOUN', dep='xcomp', head=36, sent_id=12), TokenAnnotation(text=',', lemma=',', pos='PUNCT', dep='punct', head=36, sent_id=12), TokenAnnotation(text='plat', lemma='plat', pos='NOUN', dep='obj', head=36, sent_id=12), TokenAnnotation(text='de', lemma='de', pos='ADP', dep='case', head=44, sent_id=12), TokenAnnotation(text='côtes', lemma='côte', pos='NOUN', dep='nmod', head=42, sent_id=12), TokenAnnotation(text=',', lemma=',', pos='PUNCT', dep='punct', head=36, sent_id=12), TokenAnnotation(text='paleron', lemma='paleron', pos='ADV', dep='advmod', head=36, sent_id=12), TokenAnnotation(text=',', lemma=',', pos='PUNCT', dep='punct', head=36, sent_id=12), TokenAnnotation(text='macreuse', lemma='macreus', pos='ADJ', dep='ccomp', head=36, sent_id=12), TokenAnnotation(text='à', lemma='à', pos='ADP', dep='case', head=50, sent_id=12), TokenAnnotation(text='pot-au-feu', lemma='pot-au-feu', pos='NOUN', dep='obl:mod', head=48, sent_id=12), TokenAnnotation(text='ou', lemma='ou', pos='CCONJ', dep='cc', head=52, sent_id=12), TokenAnnotation(text='jumeau', lemma='jumeau', pos='NOUN', dep='conj', head=36, sent_id=12), TokenAnnotation(text='à', lemma='à', pos='ADP', dep='case', head=54, sent_id=12), TokenAnnotation(text='pot-au-feu', lemma='pot-au-feu', pos='NOUN', dep='obl:arg', head=36, sent_id=12), TokenAnnotation(text=';', lemma=';', pos='PUNCT', dep='punct', head=8, sent_id=12), TokenAnnotation(text='\\n', lemma='\\n', pos='SPACE', dep='dep', head=55, sent_id=12), TokenAnnotation(text='classiquement', lemma='classiquement', pos='ADV', dep='advmod', head=58, sent_id=12), TokenAnnotation(text='fait', lemma='faire', pos='VERB', dep='xcomp', head=8, sent_id=12), TokenAnnotation(text='avec', lemma='avec', pos='ADP', dep='case', head=61, sent_id=12), TokenAnnotation(text='du', lemma='de', pos='DET', dep='det', head=61, sent_id=12), TokenAnnotation(text='bœuf', lemma='bœuf', pos='NOUN', dep='obl:arg', head=58, sent_id=12), TokenAnnotation(text='ou', lemma='ou', pos='CCONJ', dep='cc', head=64, sent_id=12), TokenAnnotation(text='du', lemma='de', pos='ADP', dep='case', head=64, sent_id=12), TokenAnnotation(text='poulet', lemma='poulet', pos='NOUN', dep='conj', head=61, sent_id=12), TokenAnnotation(text=',', lemma=',', pos='PUNCT', dep='punct', head=58, sent_id=12), TokenAnnotation(text='parfois', lemma='parfois', pos='ADV', dep='advmod', head=67, sent_id=12), TokenAnnotation(text='veau', lemma='veau', pos='NOUN', dep='obl:mod', head=58, sent_id=12), TokenAnnotation(text=',', lemma=',', pos='PUNCT', dep='punct', head=67, sent_id=12), TokenAnnotation(text='porc', lemma='porc', pos='NOUN', dep='conj', head=67, sent_id=12), TokenAnnotation(text='ou', lemma='ou', pos='CCONJ', dep='cc', head=71, sent_id=12), TokenAnnotation(text='mouton', lemma='mouton', pos='NOUN', dep='conj', head=69, sent_id=12), TokenAnnotation(text='sont', lemma='être', pos='AUX', dep='aux:pass', head=73, sent_id=12), TokenAnnotation(text='utilisés', lemma='utiliser', pos='VERB', dep='conj', head=8, sent_id=12), TokenAnnotation(text=';', lemma=';', pos='PUNCT', dep='punct', head=8, sent_id=12), TokenAnnotation(text='\\n', lemma='\\n', pos='SPACE', dep='dep', head=74, sent_id=12), TokenAnnotation(text='un', lemma='un', pos='DET', dep='det', head=82, sent_id=12), TokenAnnotation(text='ou', lemma='ou', pos='CCONJ', dep='cc', head=79, sent_id=12), TokenAnnotation(text='plusieurs', lemma='plusieurs', pos='DET', dep='det', head=79, sent_id=12), TokenAnnotation(text='morceaux', lemma='morceau', pos='NOUN', dep='conj', head=76, sent_id=12), TokenAnnotation(text='cartilagineux', lemma='cartilagineux', pos='ADJ', dep='amod', head=79, sent_id=12), TokenAnnotation(text=':', lemma=':', pos='PUNCT', dep='punct', head=76, sent_id=12), TokenAnnotation(text='queue', lemma='queue', pos='NOUN', dep='obj', head=8, sent_id=12), TokenAnnotation(text='de', lemma='de', pos='ADP', dep='case', head=84, sent_id=12), TokenAnnotation(text='bœuf', lemma='bœuf', pos='NOUN', dep='nmod', head=82, sent_id=12), TokenAnnotation(text='ou', lemma='ou', pos='CCONJ', dep='cc', head=86, sent_id=12), TokenAnnotation(text='os', lemma='os', pos='NOUN', dep='conj', head=82, sent_id=12), TokenAnnotation(text='à', lemma='à', pos='ADP', dep='case', head=88, sent_id=12), TokenAnnotation(text='moelle', lemma='moelle', pos='NOUN', dep='nmod', head=82, sent_id=12), TokenAnnotation(text=';', lemma=';', pos='PUNCT', dep='punct', head=8, sent_id=12), TokenAnnotation(text='\\n', lemma='\\n', pos='SPACE', dep='dep', head=89, sent_id=12), TokenAnnotation(text='des', lemma='de', pos='ADP', dep='case', head=92, sent_id=12), TokenAnnotation(text='légumes', lemma='légume', pos='NOUN', dep='obj', head=8, sent_id=12), TokenAnnotation(text=':', lemma=':', pos='PUNCT', dep='punct', head=8, sent_id=12), TokenAnnotation(text='carotte', lemma='carotte', pos='NOUN', dep='obj', head=8, sent_id=12), TokenAnnotation(text=',', lemma=',', pos='PUNCT', dep='punct', head=94, sent_id=12), TokenAnnotation(text='navet', lemma='navet', pos='NOUN', dep='appos', head=94, sent_id=12), TokenAnnotation(text=',', lemma=',', pos='PUNCT', dep='punct', head=98, sent_id=12), TokenAnnotation(text='poireau', lemma='poireau', pos='NOUN', dep='conj', head=94, sent_id=12), TokenAnnotation(text=',', lemma=',', pos='PUNCT', dep='punct', head=94, sent_id=12), TokenAnnotation(text='parfois', lemma='parfois', pos='ADV', dep='advmod', head=101, sent_id=12), TokenAnnotation(text='pomme', lemma='pomme', pos='NOUN', dep='nmod', head=94, sent_id=12), TokenAnnotation(text='de', lemma='de', pos='ADP', dep='case', head=103, sent_id=12), TokenAnnotation(text='terre', lemma='terre', pos='NOUN', dep='nmod', head=101, sent_id=12), TokenAnnotation(text='(', lemma='(', pos='PUNCT', dep='punct', head=94, sent_id=12), TokenAnnotation(text='qui', lemma='qui', pos='PRON', dep='nsubj:pass', head=109, sent_id=12), TokenAnnotation(text='n’', lemma='n’', pos='ADV', dep='advmod', head=109, sent_id=12), TokenAnnotation(text='a', lemma='avoir', pos='AUX', dep='aux:tense', head=109, sent_id=12), TokenAnnotation(text='été', lemma='être', pos='AUX', dep='aux:pass', head=109, sent_id=12), TokenAnnotation(text='introduite', lemma='introduire', pos='VERB', dep='acl:relcl', head=94, sent_id=12), TokenAnnotation(text='que', lemma='que', pos='SCONJ', dep='advmod', head=111, sent_id=12), TokenAnnotation(text='tard', lemma='tard', pos='ADV', dep='advmod', head=109, sent_id=12), TokenAnnotation(text=',', lemma=',', pos='PUNCT', dep='punct', head=8, sent_id=12), TokenAnnotation(text='au', lemma='au', pos='ADP', dep='case', head=114, sent_id=12), TokenAnnotation(text='cours', lemma='cours', pos='NOUN', dep='fixed', head=112, sent_id=12), TokenAnnotation(text='du', lemma='de', pos='ADP', dep='case', head=117, sent_id=12), TokenAnnotation(text='XVIIIe', lemma='xviii', pos='ADJ', dep='amod', head=117, sent_id=12), TokenAnnotation(text='siècle', lemma='siècle', pos='NOUN', dep='nmod', head=114, sent_id=12), TokenAnnotation(text='au', lemma='au', pos='ADP', dep='case', head=119, sent_id=12), TokenAnnotation(text='moment', lemma='moment', pos='NOUN', dep='nmod', head=114, sent_id=12), TokenAnnotation(text='de', lemma='de', pos='ADP', dep='case', head=122, sent_id=12), TokenAnnotation(text='sa', lemma='son', pos='DET', dep='det', head=122, sent_id=12), TokenAnnotation(text='promotion', lemma='promotion', pos='NOUN', dep='nmod', head=119, sent_id=12), TokenAnnotation(text='en', lemma='en', pos='ADP', dep='case', head=124, sent_id=12), TokenAnnotation(text='France', lemma='France', pos='PROPN', dep='nmod', head=122, sent_id=12), TokenAnnotation(text='par', lemma='par', pos='ADP', dep='case', head=126, sent_id=12), TokenAnnotation(text='Antoine', lemma='Antoine', pos='PROPN', dep='nmod', head=122, sent_id=12), TokenAnnotation(text='Parmentier', lemma='Parmentier', pos='PROPN', dep='flat:name', head=126, sent_id=12), TokenAnnotation(text=')', lemma=')', pos='PUNCT', dep='punct', head=114, sent_id=12), TokenAnnotation(text=',', lemma=',', pos='PUNCT', dep='punct', head=8, sent_id=12), TokenAnnotation(text='céleri', lemma='céleri', pos='PROPN', dep='punct', head=8, sent_id=12), TokenAnnotation(text='-', lemma='-', pos='PROPN', dep='obl:arg', head=8, sent_id=12), TokenAnnotation(text='rave', lemma='rave', pos='NOUN', dep='obj', head=8, sent_id=12), TokenAnnotation(text=',', lemma=',', pos='PUNCT', dep='punct', head=8, sent_id=12), TokenAnnotation(text='oignon', lemma='oignon', pos='NOUN', dep='advmod', head=8, sent_id=12), TokenAnnotation(text='(', lemma='(', pos='PUNCT', dep='punct', head=8, sent_id=12), TokenAnnotation(text='selon', lemma='selon', pos='ADP', dep='case', head=138, sent_id=12), TokenAnnotation(text='les', lemma='le', pos='DET', dep='det', head=138, sent_id=12), TokenAnnotation(text='régions', lemma='région', pos='NOUN', dep='obl:mod', head=8, sent_id=12), TokenAnnotation(text='et', lemma='et', pos='CCONJ', dep='cc', head=141, sent_id=12), TokenAnnotation(text='les', lemma='le', pos='DET', dep='det', head=141, sent_id=12), TokenAnnotation(text='recettes', lemma='recette', pos='NOUN', dep='conj', head=138, sent_id=12), TokenAnnotation(text=')', lemma=')', pos='PUNCT', dep='punct', head=8, sent_id=12), TokenAnnotation(text=';', lemma=';', pos='PUNCT', dep='punct', head=8, sent_id=12), TokenAnnotation(text='\\n', lemma='\\n', pos='SPACE', dep='dep', head=143, sent_id=12), TokenAnnotation(text='des', lemma='de', pos='ADP', dep='det', head=146, sent_id=12), TokenAnnotation(text='épices', lemma='épice', pos='NOUN', dep='nmod', head=143, sent_id=12), TokenAnnotation(text=':', lemma=':', pos='PUNCT', dep='punct', head=143, sent_id=12), TokenAnnotation(text='bouquet', lemma='bouquet', pos='NOUN', dep='obj', head=8, sent_id=12), TokenAnnotation(text='garni', lemma='garni', pos='ADJ', dep='amod', head=148, sent_id=12), TokenAnnotation(text=',', lemma=',', pos='PUNCT', dep='punct', head=148, sent_id=12), TokenAnnotation(text='sel', lemma='sel', pos='NOUN', dep='appos', head=148, sent_id=12), TokenAnnotation(text=',', lemma=',', pos='PUNCT', dep='punct', head=148, sent_id=12), TokenAnnotation(text='poivre', lemma='poivr', pos='ADJ', dep='amod', head=148, sent_id=12), TokenAnnotation(text='noir', lemma='noir', pos='ADJ', dep='amod', head=153, sent_id=12), TokenAnnotation(text='et', lemma='et', pos='CCONJ', dep='cc', head=156, sent_id=12), TokenAnnotation(text='clous', lemma='clou', pos='NOUN', dep='conj', head=153, sent_id=12), TokenAnnotation(text='de', lemma='de', pos='ADP', dep='case', head=158, sent_id=12), TokenAnnotation(text='girofle', lemma='girofle', pos='NOUN', dep='nmod', head=156, sent_id=12), TokenAnnotation(text='.', lemma='.', pos='PUNCT', dep='punct', head=8, sent_id=12), TokenAnnotation(text='\\n', lemma='\\n', pos='SPACE', dep='dep', head=8, sent_id=12)]\n",
            "[TokenAnnotation(text='Le', lemma='le', pos='DET', dep='det', head=1, sent_id=13), TokenAnnotation(text='pot-au-feu', lemma='pot-au-feu', pos='NOUN', dep='nsubj', head=4, sent_id=13), TokenAnnotation(text='est', lemma='être', pos='AUX', dep='cop', head=4, sent_id=13), TokenAnnotation(text=\"l'\", lemma='le', pos='DET', dep='det', head=4, sent_id=13), TokenAnnotation(text='un', lemma='un', pos='PRON', dep='ROOT', head=4, sent_id=13), TokenAnnotation(text='des', lemma='de', pos='ADP', dep='case', head=7, sent_id=13), TokenAnnotation(text='rares', lemma='rare', pos='ADJ', dep='amod', head=7, sent_id=13), TokenAnnotation(text='plats', lemma='plat', pos='NOUN', dep='nmod', head=4, sent_id=13), TokenAnnotation(text='où', lemma='où', pos='PRON', dep='iobj', head=11, sent_id=13), TokenAnnotation(text=\"l'\", lemma='le', pos='PRON', dep='nsubj', head=11, sent_id=13), TokenAnnotation(text='on', lemma='on', pos='PRON', dep='nsubj', head=11, sent_id=13), TokenAnnotation(text='utilise', lemma='utiliser', pos='VERB', dep='acl:relcl', head=7, sent_id=13), TokenAnnotation(text='parfois', lemma='parfois', pos='ADV', dep='advmod', head=11, sent_id=13), TokenAnnotation(text='des', lemma='un', pos='DET', dep='det', head=14, sent_id=13), TokenAnnotation(text='aliments', lemma='aliment', pos='NOUN', dep='obj', head=11, sent_id=13), TokenAnnotation(text='brûlés', lemma='brûler', pos='VERB', dep='acl', head=14, sent_id=13), TokenAnnotation(text=':', lemma=':', pos='PUNCT', dep='punct', head=4, sent_id=13), TokenAnnotation(text='pour', lemma='pour', pos='ADP', dep='case', head=18, sent_id=13), TokenAnnotation(text='parfumer', lemma='parfumer', pos='VERB', dep='obl:mod', head=27, sent_id=13), TokenAnnotation(text='et', lemma='et', pos='CCONJ', dep='cc', head=20, sent_id=13), TokenAnnotation(text='colorer', lemma='colorer', pos='VERB', dep='conj', head=18, sent_id=13), TokenAnnotation(text='le', lemma='le', pos='DET', dep='det', head=22, sent_id=13), TokenAnnotation(text='bouillon', lemma='bouillon', pos='NOUN', dep='obj', head=20, sent_id=13), TokenAnnotation(text=',', lemma=',', pos='PUNCT', dep='punct', head=27, sent_id=13), TokenAnnotation(text='les', lemma='le', pos='DET', dep='det', head=25, sent_id=13), TokenAnnotation(text='oignons', lemma='oignon', pos='NOUN', dep='nsubj:pass', head=27, sent_id=13), TokenAnnotation(text='sont', lemma='être', pos='AUX', dep='aux:pass', head=27, sent_id=13), TokenAnnotation(text='coupés', lemma='couper', pos='VERB', dep='acl', head=4, sent_id=13), TokenAnnotation(text='en', lemma='en', pos='ADP', dep='case', head=29, sent_id=13), TokenAnnotation(text='deux', lemma='deux', pos='NUM', dep='obl:mod', head=27, sent_id=13), TokenAnnotation(text='et', lemma='et', pos='CCONJ', dep='cc', head=31, sent_id=13), TokenAnnotation(text='passés', lemma='passer', pos='VERB', dep='conj', head=27, sent_id=13), TokenAnnotation(text='au', lemma='au', pos='ADP', dep='case', head=33, sent_id=13), TokenAnnotation(text='four', lemma='four', pos='NOUN', dep='obl:arg', head=31, sent_id=13), TokenAnnotation(text='(', lemma='(', pos='PUNCT', dep='punct', head=33, sent_id=13), TokenAnnotation(text='gril', lemma='gril', pos='NOUN', dep='appos', head=33, sent_id=13), TokenAnnotation(text=')', lemma=')', pos='PUNCT', dep='punct', head=33, sent_id=13), TokenAnnotation(text=\"jusqu'\", lemma='jusque', pos='ADP', dep='case', head=39, sent_id=13), TokenAnnotation(text='à', lemma='à', pos='ADP', dep='case', head=39, sent_id=13), TokenAnnotation(text='ce', lemma='ce', pos='PRON', dep='obl:mod', head=27, sent_id=13), TokenAnnotation(text='que', lemma='que', pos='SCONJ', dep='mark', head=45, sent_id=13), TokenAnnotation(text='la', lemma='le', pos='DET', dep='det', head=42, sent_id=13), TokenAnnotation(text='surface', lemma='surface', pos='NOUN', dep='nsubj', head=45, sent_id=13), TokenAnnotation(text='soit', lemma='être', pos='AUX', dep='cop', head=45, sent_id=13), TokenAnnotation(text='complètement', lemma='complètement', pos='ADV', dep='advmod', head=45, sent_id=13), TokenAnnotation(text='noire', lemma='noir', pos='ADJ', dep='acl', head=39, sent_id=13), TokenAnnotation(text='.', lemma='.', pos='PUNCT', dep='punct', head=4, sent_id=13), TokenAnnotation(text='\\n', lemma='\\n', pos='SPACE', dep='dep', head=46, sent_id=13)]\n",
            "[TokenAnnotation(text='Jules', lemma='Jules', pos='PROPN', dep='nsubj', head=10, sent_id=14), TokenAnnotation(text='Gouffé', lemma='Gouffé', pos='PROPN', dep='flat:name', head=0, sent_id=14), TokenAnnotation(text=',', lemma=',', pos='PUNCT', dep='punct', head=0, sent_id=14), TokenAnnotation(text='cuisinier', lemma='cuisinier', pos='NOUN', dep='appos', head=0, sent_id=14), TokenAnnotation(text='et', lemma='et', pos='CCONJ', dep='cc', head=5, sent_id=14), TokenAnnotation(text='pâtissier', lemma='pâtissier', pos='ADJ', dep='conj', head=3, sent_id=14), TokenAnnotation(text='français', lemma='français', pos='ADJ', dep='amod', head=3, sent_id=14), TokenAnnotation(text='du', lemma='de', pos='ADP', dep='case', head=9, sent_id=14), TokenAnnotation(text='XIXe', lemma='xix', pos='ADJ', dep='amod', head=9, sent_id=14), TokenAnnotation(text='siècle', lemma='siècle', pos='NOUN', dep='nmod', head=3, sent_id=14), TokenAnnotation(text='distingue', lemma='distinguer', pos='VERB', dep='ROOT', head=10, sent_id=14), TokenAnnotation(text='le', lemma='le', pos='DET', dep='det', head=13, sent_id=14), TokenAnnotation(text='petit', lemma='petit', pos='ADJ', dep='amod', head=13, sent_id=14), TokenAnnotation(text='pot-au-feu', lemma='pot-au-feu', pos='NOUN', dep='obj', head=10, sent_id=14), TokenAnnotation(text='ordinaire', lemma='ordinaire', pos='ADJ', dep='amod', head=13, sent_id=14), TokenAnnotation(text='du', lemma='de', pos='ADP', dep='case', head=17, sent_id=14), TokenAnnotation(text='grand', lemma='grand', pos='ADJ', dep='amod', head=17, sent_id=14), TokenAnnotation(text='pot-au-feu', lemma='pot-au-feu', pos='NOUN', dep='nmod', head=13, sent_id=14), TokenAnnotation(text='des', lemma='de', pos='ADP', dep='case', head=19, sent_id=14), TokenAnnotation(text='jours', lemma='jour', pos='NOUN', dep='nmod', head=17, sent_id=14), TokenAnnotation(text=\"d'\", lemma='de', pos='ADP', dep='case', head=21, sent_id=14), TokenAnnotation(text='extra', lemma='extra', pos='NOUN', dep='nmod', head=19, sent_id=14), TokenAnnotation(text='.', lemma='.', pos='PUNCT', dep='punct', head=10, sent_id=14), TokenAnnotation(text='\\n', lemma='\\n', pos='SPACE', dep='dep', head=22, sent_id=14), TokenAnnotation(text='Cuisson', lemma='cuisson', pos='NOUN', dep='obj', head=10, sent_id=14), TokenAnnotation(text='\\n', lemma='\\n', pos='SPACE', dep='dep', head=24, sent_id=14), TokenAnnotation(text='Deux', lemma='Deux', pos='NUM', dep='nummod', head=27, sent_id=14), TokenAnnotation(text='méthodes', lemma='méthode', pos='NOUN', dep='nsubj', head=30, sent_id=14), TokenAnnotation(text='sont', lemma='être', pos='AUX', dep='cop', head=30, sent_id=14), TokenAnnotation(text='en', lemma='en', pos='ADP', dep='case', head=30, sent_id=14), TokenAnnotation(text='présence', lemma='présence', pos='NOUN', dep='advcl', head=10, sent_id=14), TokenAnnotation(text=':', lemma=':', pos='PUNCT', dep='punct', head=30, sent_id=14), TokenAnnotation(text='mettre', lemma='mettre', pos='VERB', dep='acl', head=30, sent_id=14), TokenAnnotation(text='le', lemma='le', pos='DET', dep='det', head=34, sent_id=14), TokenAnnotation(text='bœuf', lemma='bœuf', pos='NOUN', dep='obj', head=32, sent_id=14), TokenAnnotation(text='dans', lemma='dans', pos='ADP', dep='case', head=37, sent_id=14), TokenAnnotation(text=\"l'\", lemma='le', pos='DET', dep='det', head=37, sent_id=14), TokenAnnotation(text='eau', lemma='eau', pos='NOUN', dep='obl:mod', head=32, sent_id=14), TokenAnnotation(text='froide', lemma='froid', pos='ADJ', dep='amod', head=37, sent_id=14), TokenAnnotation(text='ou', lemma='ou', pos='CCONJ', dep='cc', head=43, sent_id=14), TokenAnnotation(text='bien', lemma='bien', pos='ADV', dep='fixed', head=39, sent_id=14), TokenAnnotation(text='dans', lemma='dans', pos='ADP', dep='case', head=43, sent_id=14), TokenAnnotation(text=\"l'\", lemma='le', pos='DET', dep='det', head=43, sent_id=14), TokenAnnotation(text='eau', lemma='eau', pos='NOUN', dep='conj', head=37, sent_id=14), TokenAnnotation(text='bouillante', lemma='bouillant', pos='ADJ', dep='amod', head=43, sent_id=14), TokenAnnotation(text='.', lemma='.', pos='PUNCT', dep='punct', head=10, sent_id=14)]\n",
            "[TokenAnnotation(text='La', lemma='le', pos='DET', dep='det', head=1, sent_id=15), TokenAnnotation(text='première', lemma='premier', pos='ADJ', dep='nsubj', head=2, sent_id=15), TokenAnnotation(text='donne', lemma='donne', pos='VERB', dep='ROOT', head=2, sent_id=15), TokenAnnotation(text='un', lemma='un', pos='DET', dep='det', head=4, sent_id=15), TokenAnnotation(text='bouillon', lemma='bouillon', pos='NOUN', dep='obj', head=2, sent_id=15), TokenAnnotation(text='succulent', lemma='succulent', pos='ADJ', dep='amod', head=4, sent_id=15), TokenAnnotation(text=',', lemma=',', pos='PUNCT', dep='punct', head=9, sent_id=15), TokenAnnotation(text='la', lemma='le', pos='DET', dep='det', head=8, sent_id=15), TokenAnnotation(text='seconde', lemma='second', pos='ADJ', dep='nsubj', head=9, sent_id=15), TokenAnnotation(text='préserve', lemma='préserver', pos='VERB', dep='conj', head=2, sent_id=15), TokenAnnotation(text='davantage', lemma='davantage', pos='ADV', dep='advmod', head=9, sent_id=15), TokenAnnotation(text='le', lemma='le', pos='DET', dep='det', head=12, sent_id=15), TokenAnnotation(text='gout', lemma='gout', pos='NOUN', dep='obj', head=9, sent_id=15), TokenAnnotation(text='des', lemma='de', pos='ADP', dep='case', head=14, sent_id=15), TokenAnnotation(text='viandes', lemma='viande', pos='NOUN', dep='nmod', head=12, sent_id=15), TokenAnnotation(text='.', lemma='.', pos='PUNCT', dep='punct', head=2, sent_id=15)]\n",
            "[TokenAnnotation(text='Paul', lemma='Paul', pos='PROPN', dep='nsubj', head=5, sent_id=16), TokenAnnotation(text='Bocuse', lemma='Bocuse', pos='PROPN', dep='flat:name', head=0, sent_id=16), TokenAnnotation(text=',', lemma=',', pos='PUNCT', dep='punct', head=5, sent_id=16), TokenAnnotation(text='Jules', lemma='Jules', pos='PROPN', dep='nsubj', head=5, sent_id=16), TokenAnnotation(text='Gouffé', lemma='Gouffé', pos='PROPN', dep='flat:name', head=3, sent_id=16), TokenAnnotation(text='optent', lemma='opter', pos='VERB', dep='ROOT', head=5, sent_id=16), TokenAnnotation(text=' ', lemma=' ', pos='SPACE', dep='dep', head=5, sent_id=16), TokenAnnotation(text='pour', lemma='pour', pos='ADP', dep='case', head=9, sent_id=16), TokenAnnotation(text=\"l'\", lemma='le', pos='DET', dep='det', head=9, sent_id=16), TokenAnnotation(text='eau', lemma='eau', pos='NOUN', dep='obl:mod', head=5, sent_id=16), TokenAnnotation(text='froide', lemma='froid', pos='ADJ', dep='amod', head=9, sent_id=16), TokenAnnotation(text='.', lemma='.', pos='PUNCT', dep='punct', head=5, sent_id=16)]\n",
            "[TokenAnnotation(text='Un', lemma='un', pos='DET', dep='det', head=2, sent_id=17), TokenAnnotation(text='bon', lemma='bon', pos='ADJ', dep='amod', head=2, sent_id=17), TokenAnnotation(text='compromis', lemma='compromis', pos='NOUN', dep='nsubj', head=9, sent_id=17), TokenAnnotation(text='selon', lemma='selon', pos='ADP', dep='case', head=4, sent_id=17), TokenAnnotation(text='Sabine', lemma='Sabine', pos='PROPN', dep='nmod', head=2, sent_id=17), TokenAnnotation(text='Jeannin', lemma='Jeannin', pos='PROPN', dep='flat:name', head=4, sent_id=17), TokenAnnotation(text='et', lemma='et', pos='CCONJ', dep='cc', head=7, sent_id=17), TokenAnnotation(text='al', lemma='al', pos='PROPN', dep='conj', head=5, sent_id=17), TokenAnnotation(text='.', lemma='.', pos='PUNCT', dep='punct', head=2, sent_id=17), TokenAnnotation(text='est', lemma='être', pos='AUX', dep='ROOT', head=9, sent_id=17), TokenAnnotation(text='de', lemma='de', pos='ADP', dep='mark', head=11, sent_id=17), TokenAnnotation(text='commencer', lemma='commencer', pos='VERB', dep='acl', head=9, sent_id=17), TokenAnnotation(text='à', lemma='à', pos='ADP', dep='case', head=14, sent_id=17), TokenAnnotation(text=\"l'\", lemma='le', pos='DET', dep='det', head=14, sent_id=17), TokenAnnotation(text='eau', lemma='eau', pos='NOUN', dep='obl:arg', head=11, sent_id=17), TokenAnnotation(text='froide', lemma='froid', pos='ADJ', dep='amod', head=14, sent_id=17), TokenAnnotation(text='avec', lemma='avec', pos='ADP', dep='case', head=19, sent_id=17), TokenAnnotation(text='un', lemma='un', pos='DET', dep='det', head=19, sent_id=17), TokenAnnotation(text='premier', lemma='premier', pos='ADJ', dep='amod', head=19, sent_id=17), TokenAnnotation(text='morceau', lemma='morceau', pos='NOUN', dep='nmod', head=14, sent_id=17), TokenAnnotation(text='de', lemma='de', pos='ADP', dep='case', head=21, sent_id=17), TokenAnnotation(text='bœuf', lemma='bœuf', pos='NOUN', dep='nmod', head=19, sent_id=17), TokenAnnotation(text=',', lemma=',', pos='PUNCT', dep='punct', head=14, sent_id=17), TokenAnnotation(text='et', lemma='et', pos='CCONJ', dep='cc', head=26, sent_id=17), TokenAnnotation(text=\"d'\", lemma='de', pos='ADP', dep='mark', head=26, sent_id=17), TokenAnnotation(text='en', lemma='en', pos='PRON', dep='iobj', head=26, sent_id=17), TokenAnnotation(text='ajouter', lemma='ajouter', pos='VERB', dep='conj', head=11, sent_id=17), TokenAnnotation(text='un', lemma='un', pos='DET', dep='det', head=28, sent_id=17), TokenAnnotation(text='autre', lemma='autre', pos='ADJ', dep='obj', head=26, sent_id=17), TokenAnnotation(text='quand', lemma='quand', pos='SCONJ', dep='mark', head=31, sent_id=17), TokenAnnotation(text=\"l'\", lemma='le', pos='DET', dep='det', head=31, sent_id=17), TokenAnnotation(text='eau', lemma='eau', pos='NOUN', dep='obl:arg', head=26, sent_id=17), TokenAnnotation(text='bout', lemma='bout', pos='ADJ', dep='nmod', head=31, sent_id=17), TokenAnnotation(text='.', lemma='.', pos='PUNCT', dep='punct', head=9, sent_id=17), TokenAnnotation(text='\\n', lemma='\\n', pos='SPACE', dep='dep', head=33, sent_id=17)]\n",
            "[TokenAnnotation(text='Le', lemma='le', pos='DET', dep='det', head=1, sent_id=18), TokenAnnotation(text='bouillon', lemma='bouillon', pos='NOUN', dep='nsubj', head=2, sent_id=18), TokenAnnotation(text='contient', lemma='contenir', pos='VERB', dep='ROOT', head=2, sent_id=18), TokenAnnotation(text='traditionnellement', lemma='traditionnellement', pos='ADV', dep='advmod', head=5, sent_id=18), TokenAnnotation(text='un', lemma='un', pos='DET', dep='det', head=5, sent_id=18), TokenAnnotation(text='oignon', lemma='oignon', pos='NOUN', dep='obj', head=2, sent_id=18), TokenAnnotation(text='piqué', lemma='piquer', pos='ADJ', dep='acl', head=5, sent_id=18), TokenAnnotation(text='de', lemma='de', pos='ADP', dep='case', head=8, sent_id=18), TokenAnnotation(text='clous', lemma='clou', pos='NOUN', dep='nmod', head=5, sent_id=18), TokenAnnotation(text='de', lemma='de', pos='ADP', dep='case', head=10, sent_id=18), TokenAnnotation(text='girofle', lemma='girofle', pos='NOUN', dep='nmod', head=8, sent_id=18), TokenAnnotation(text=',', lemma=',', pos='PUNCT', dep='punct', head=8, sent_id=18), TokenAnnotation(text=\"l'\", lemma='le', pos='DET', dep='det', head=13, sent_id=18), TokenAnnotation(text='ail', lemma='ail', pos='CCONJ', dep='nsubj:pass', head=15, sent_id=18), TokenAnnotation(text='est', lemma='être', pos='AUX', dep='aux:pass', head=15, sent_id=18), TokenAnnotation(text='déconseillé', lemma='déconseiller', pos='VERB', dep='advcl', head=2, sent_id=18), TokenAnnotation(text='.', lemma='.', pos='PUNCT', dep='punct', head=2, sent_id=18)]\n",
            "[TokenAnnotation(text='La', lemma='le', pos='DET', dep='det', head=1, sent_id=19), TokenAnnotation(text='cuisson', lemma='cuisson', pos='NOUN', dep='nsubj', head=2, sent_id=19), TokenAnnotation(text='doit', lemma='devoir', pos='VERB', dep='ROOT', head=2, sent_id=19), TokenAnnotation(text='être', lemma='être', pos='AUX', dep='cop', head=4, sent_id=19), TokenAnnotation(text='longue', lemma='long', pos='ADJ', dep='xcomp', head=2, sent_id=19), TokenAnnotation(text='et', lemma='et', pos='CCONJ', dep='cc', head=6, sent_id=19), TokenAnnotation(text='douce', lemma='doux', pos='ADJ', dep='conj', head=4, sent_id=19), TokenAnnotation(text=',', lemma=',', pos='PUNCT', dep='punct', head=2, sent_id=19), TokenAnnotation(text='(', lemma='(', pos='PUNCT', dep='punct', head=2, sent_id=19), TokenAnnotation(text='«', lemma='«', pos='PUNCT', dep='dep', head=8, sent_id=19), TokenAnnotation(text='le', lemma='le', pos='DET', dep='det', head=12, sent_id=19), TokenAnnotation(text='premier', lemma='premier', pos='ADJ', dep='amod', head=12, sent_id=19), TokenAnnotation(text='soin', lemma='soin', pos='NOUN', dep='fixed', head=8, sent_id=19), TokenAnnotation(text='est', lemma='être', pos='AUX', dep='cop', head=16, sent_id=19), TokenAnnotation(text='de', lemma='de', pos='ADP', dep='advmod', head=16, sent_id=19), TokenAnnotation(text='bien', lemma='bien', pos='ADV', dep='fixed', head=14, sent_id=19), TokenAnnotation(text='faire', lemma='faire', pos='VERB', dep='parataxis', head=2, sent_id=19), TokenAnnotation(text='son', lemma='son', pos='DET', dep='det', head=18, sent_id=19), TokenAnnotation(text='feu', lemma='feu', pos='NOUN', dep='obj', head=16, sent_id=19), TokenAnnotation(text='»', lemma='»', pos='PUNCT', dep='punct', head=16, sent_id=19), TokenAnnotation(text=')', lemma=')', pos='PUNCT', dep='punct', head=2, sent_id=19), TokenAnnotation(text=',', lemma=',', pos='PUNCT', dep='punct', head=23, sent_id=19), TokenAnnotation(text='ébullition', lemma='ébullition', pos='NOUN', dep='nsubj', head=23, sent_id=19), TokenAnnotation(text='continue', lemma='continuer', pos='VERB', dep='parataxis', head=2, sent_id=19), TokenAnnotation(text='et', lemma='et', pos='CCONJ', dep='cc', head=25, sent_id=19), TokenAnnotation(text='régulière', lemma='régulier', pos='ADJ', dep='conj', head=23, sent_id=19), TokenAnnotation(text='pendant', lemma='pendant', pos='ADP', dep='case', head=30, sent_id=19), TokenAnnotation(text='3', lemma='3', pos='NUM', dep='nummod', head=30, sent_id=19), TokenAnnotation(text='à', lemma='à', pos='ADP', dep='case', head=29, sent_id=19), TokenAnnotation(text='5', lemma='5', pos='NUM', dep='nmod', head=27, sent_id=19), TokenAnnotation(text='heures', lemma='heure', pos='NOUN', dep='obl:mod', head=25, sent_id=19), TokenAnnotation(text='selon', lemma='selon', pos='ADP', dep='case', head=33, sent_id=19), TokenAnnotation(text='le', lemma='le', pos='DET', dep='det', head=33, sent_id=19), TokenAnnotation(text='contenu', lemma='contenu', pos='NOUN', dep='obl:mod', head=23, sent_id=19), TokenAnnotation(text=',', lemma=',', pos='PUNCT', dep='punct', head=23, sent_id=19), TokenAnnotation(text='trop', lemma='trop', pos='ADV', dep='advmod', head=36, sent_id=19), TokenAnnotation(text='cuire', lemma='cuire', pos='VERB', dep='xcomp', head=23, sent_id=19), TokenAnnotation(text='le', lemma='le', pos='DET', dep='det', head=38, sent_id=19), TokenAnnotation(text='pot-au-feu', lemma='pot-au-feu', pos='NOUN', dep='nsubj', head=40, sent_id=19), TokenAnnotation(text='est', lemma='être', pos='AUX', dep='cop', head=40, sent_id=19), TokenAnnotation(text='néfaste', lemma='néfaste', pos='ADJ', dep='conj', head=2, sent_id=19), TokenAnnotation(text='—', lemma='—', pos='PUNCT', dep='punct', head=40, sent_id=19)]\n",
            "[TokenAnnotation(text='les', lemma='le', pos='DET', dep='det', head=1, sent_id=20), TokenAnnotation(text='légumes', lemma='légume', pos='NOUN', dep='nsubj', head=3, sent_id=20), TokenAnnotation(text='ne', lemma='ne', pos='ADV', dep='advmod', head=3, sent_id=20), TokenAnnotation(text='séjournent', lemma='séjourner', pos='VERB', dep='ROOT', head=3, sent_id=20), TokenAnnotation(text='dans', lemma='dans', pos='ADP', dep='case', head=6, sent_id=20), TokenAnnotation(text='le', lemma='le', pos='DET', dep='det', head=6, sent_id=20), TokenAnnotation(text='bouillon', lemma='bouillon', pos='NOUN', dep='obl:arg', head=3, sent_id=20), TokenAnnotation(text='que', lemma='que', pos='SCONJ', dep='mark', head=16, sent_id=20), TokenAnnotation(text='le', lemma='le', pos='DET', dep='det', head=9, sent_id=20), TokenAnnotation(text='temps', lemma='temps', pos='NOUN', dep='fixed', head=7, sent_id=20), TokenAnnotation(text='de', lemma='de', pos='ADP', dep='mark', head=12, sent_id=20), TokenAnnotation(text='les', lemma='le', pos='PRON', dep='obj', head=12, sent_id=20), TokenAnnotation(text='cuire', lemma='cuire', pos='VERB', dep='nmod', head=9, sent_id=20), TokenAnnotation(text='—', lemma='—', pos='PUNCT', dep='fixed', head=7, sent_id=20), TokenAnnotation(text=',', lemma=',', pos='PUNCT', dep='punct', head=16, sent_id=20), TokenAnnotation(text='on', lemma='on', pos='PRON', dep='nsubj', head=16, sent_id=20), TokenAnnotation(text='laisse', lemma='laisse', pos='VERB', dep='ccomp', head=3, sent_id=20), TokenAnnotation(text='entrouvert', lemma='entrouvrir', pos='VERB', dep='xcomp', head=16, sent_id=20), TokenAnnotation(text='le', lemma='le', pos='DET', dep='det', head=19, sent_id=20), TokenAnnotation(text='couvercle', lemma='couvercle', pos='NOUN', dep='obj', head=17, sent_id=20), TokenAnnotation(text='de', lemma='de', pos='ADP', dep='case', head=22, sent_id=20), TokenAnnotation(text='la', lemma='le', pos='DET', dep='det', head=22, sent_id=20), TokenAnnotation(text='marmite', lemma='marmite', pos='NOUN', dep='nmod', head=19, sent_id=20), TokenAnnotation(text='.', lemma='.', pos='PUNCT', dep='punct', head=3, sent_id=20)]\n",
            "[TokenAnnotation(text='Le', lemma='le', pos='DET', dep='det', head=1, sent_id=21), TokenAnnotation(text='bouillon', lemma='bouillon', pos='NOUN', dep='nsubj', head=3, sent_id=21), TokenAnnotation(text='est', lemma='être', pos='AUX', dep='cop', head=3, sent_id=21), TokenAnnotation(text='écumé', lemma='écumer', pos='VERB', dep='ROOT', head=3, sent_id=21), TokenAnnotation(text='en', lemma='en', pos='ADP', dep='case', head=5, sent_id=21), TokenAnnotation(text='début', lemma='début', pos='NOUN', dep='obl:mod', head=3, sent_id=21), TokenAnnotation(text='de', lemma='de', pos='ADP', dep='case', head=7, sent_id=21), TokenAnnotation(text='cuisson', lemma='cuisson', pos='NOUN', dep='nmod', head=5, sent_id=21), TokenAnnotation(text='puis', lemma='pouvoir', pos='CCONJ', dep='cc', head=9, sent_id=21), TokenAnnotation(text='dégraissé', lemma='dégraisser', pos='VERB', dep='conj', head=3, sent_id=21), TokenAnnotation(text='après', lemma='après', pos='ADP', dep='mark', head=12, sent_id=21), TokenAnnotation(text='avoir', lemma='avoir', pos='AUX', dep='aux:tense', head=12, sent_id=21), TokenAnnotation(text='retiré', lemma='retirer', pos='VERB', dep='xcomp', head=9, sent_id=21), TokenAnnotation(text='la', lemma='le', pos='DET', dep='det', head=14, sent_id=21), TokenAnnotation(text='viande', lemma='viande', pos='NOUN', dep='obj', head=12, sent_id=21), TokenAnnotation(text='cuite', lemma='cuire', pos='VERB', dep='acl', head=14, sent_id=21), TokenAnnotation(text='.', lemma='.', pos='PUNCT', dep='punct', head=3, sent_id=21)]\n",
            "[TokenAnnotation(text='Les', lemma='le', pos='DET', dep='det', head=1, sent_id=22), TokenAnnotation(text='amateurs', lemma='amateur', pos='NOUN', dep='nsubj', head=2, sent_id=22), TokenAnnotation(text='préfèrent', lemma='préférer', pos='VERB', dep='ROOT', head=2, sent_id=22), TokenAnnotation(text='le', lemma='le', pos='DET', dep='det', head=4, sent_id=22), TokenAnnotation(text='pot-au-feu', lemma='pot-au-feu', pos='NOUN', dep='obj', head=2, sent_id=22), TokenAnnotation(text='réchauffé', lemma='réchauffer', pos='ADJ', dep='acl', head=4, sent_id=22), TokenAnnotation(text='le', lemma='le', pos='DET', dep='det', head=7, sent_id=22), TokenAnnotation(text='lendemain', lemma='lendemain', pos='NOUN', dep='obl:mod', head=5, sent_id=22), TokenAnnotation(text='.', lemma='.', pos='PUNCT', dep='punct', head=2, sent_id=22), TokenAnnotation(text='\\n', lemma='\\n', pos='SPACE', dep='dep', head=8, sent_id=22)]\n",
            "[TokenAnnotation(text='Dans', lemma='dans', pos='ADP', dep='case', head=2, sent_id=23), TokenAnnotation(text='les', lemma='le', pos='DET', dep='det', head=2, sent_id=23), TokenAnnotation(text='autocuiseurs', lemma='autocuiseur', pos='NOUN', dep='obl:mod', head=7, sent_id=23), TokenAnnotation(text=',', lemma=',', pos='PUNCT', dep='punct', head=7, sent_id=23), TokenAnnotation(text='la', lemma='le', pos='DET', dep='det', head=5, sent_id=23), TokenAnnotation(text='cuisson', lemma='cuisson', pos='NOUN', dep='nsubj', head=7, sent_id=23), TokenAnnotation(text='se', lemma='se', pos='PRON', dep='expl:comp', head=7, sent_id=23), TokenAnnotation(text='fait', lemma='faire', pos='VERB', dep='ROOT', head=7, sent_id=23), TokenAnnotation(text='toujours', lemma='toujours', pos='ADV', dep='advmod', head=7, sent_id=23), TokenAnnotation(text='en', lemma='en', pos='ADP', dep='case', head=11, sent_id=23), TokenAnnotation(text='deux', lemma='deux', pos='NUM', dep='nummod', head=11, sent_id=23), TokenAnnotation(text='temps', lemma='temps', pos='NOUN', dep='obl:mod', head=7, sent_id=23), TokenAnnotation(text=',', lemma=',', pos='PUNCT', dep='punct', head=15, sent_id=23), TokenAnnotation(text='le', lemma='le', pos='DET', dep='det', head=14, sent_id=23), TokenAnnotation(text='second', lemma='second', pos='ADJ', dep='nsubj', head=15, sent_id=23), TokenAnnotation(text='est', lemma='être', pos='VERB', dep='conj', head=7, sent_id=23), TokenAnnotation(text='bref', lemma='bref', pos='ADV', dep='advmod', head=15, sent_id=23), TokenAnnotation(text='et', lemma='et', pos='CCONJ', dep='cc', head=18, sent_id=23), TokenAnnotation(text='réservé', lemma='réserver', pos='VERB', dep='conj', head=15, sent_id=23), TokenAnnotation(text='aux', lemma='à', pos='ADP', dep='case', head=20, sent_id=23), TokenAnnotation(text='légumes', lemma='légume', pos='NOUN', dep='obl:arg', head=18, sent_id=23), TokenAnnotation(text='.', lemma='.', pos='PUNCT', dep='punct', head=7, sent_id=23), TokenAnnotation(text='\\n', lemma='\\n', pos='SPACE', dep='dep', head=21, sent_id=23)]\n",
            "[TokenAnnotation(text='Service', lemma='service', pos='NOUN', dep='ROOT', head=0, sent_id=24), TokenAnnotation(text='\\n', lemma='\\n', pos='SPACE', dep='dep', head=0, sent_id=24)]\n",
            "[TokenAnnotation(text='Le', lemma='le', pos='DET', dep='det', head=1, sent_id=25), TokenAnnotation(text='bouillon', lemma='bouillon', pos='NOUN', dep='nsubj:pass', head=7, sent_id=25), TokenAnnotation(text='de', lemma='de', pos='ADP', dep='case', head=3, sent_id=25), TokenAnnotation(text='cuisson', lemma='cuisson', pos='NOUN', dep='nmod', head=1, sent_id=25), TokenAnnotation(text='du', lemma='de', pos='ADP', dep='case', head=5, sent_id=25), TokenAnnotation(text='pot-au-feu', lemma='pot-au-feu', pos='NOUN', dep='nmod', head=3, sent_id=25), TokenAnnotation(text='est', lemma='être', pos='AUX', dep='aux:pass', head=7, sent_id=25), TokenAnnotation(text='servi', lemma='servir', pos='VERB', dep='ROOT', head=7, sent_id=25), TokenAnnotation(text='à', lemma='à', pos='ADP', dep='case', head=9, sent_id=25), TokenAnnotation(text='côté', lemma='côté', pos='NOUN', dep='obl:mod', head=7, sent_id=25), TokenAnnotation(text='comme', lemma='comme', pos='ADP', dep='case', head=11, sent_id=25), TokenAnnotation(text='potage', lemma='potage', pos='NOUN', dep='nmod', head=9, sent_id=25), TokenAnnotation(text=',', lemma=',', pos='PUNCT', dep='punct', head=7, sent_id=25), TokenAnnotation(text='souvent', lemma='souvent', pos='ADV', dep='advmod', head=14, sent_id=25), TokenAnnotation(text='agrémenté', lemma='agrémenter', pos='VERB', dep='advcl', head=7, sent_id=25), TokenAnnotation(text='de', lemma='de', pos='ADP', dep='case', head=16, sent_id=25), TokenAnnotation(text='pâtes', lemma='pâte', pos='NOUN', dep='obl:arg', head=14, sent_id=25), TokenAnnotation(text=',', lemma=',', pos='PUNCT', dep='punct', head=16, sent_id=25), TokenAnnotation(text='riz', lemma='riz', pos='NOUN', dep='appos', head=16, sent_id=25), TokenAnnotation(text='ou', lemma='ou', pos='CCONJ', dep='cc', head=20, sent_id=25), TokenAnnotation(text='pain', lemma='pain', pos='NOUN', dep='conj', head=18, sent_id=25), TokenAnnotation(text='grillé', lemma='grillé', pos='ADJ', dep='amod', head=20, sent_id=25), TokenAnnotation(text=',', lemma=',', pos='PUNCT', dep='punct', head=24, sent_id=25), TokenAnnotation(text='au', lemma='au', pos='ADP', dep='case', head=24, sent_id=25), TokenAnnotation(text='dîner', lemma='dîner', pos='NOUN', dep='conj', head=16, sent_id=25), TokenAnnotation(text='ou', lemma='ou', pos='CCONJ', dep='cc', head=27, sent_id=25), TokenAnnotation(text='en', lemma='en', pos='ADP', dep='case', head=27, sent_id=25), TokenAnnotation(text='entrée', lemma='entrée', pos='NOUN', dep='conj', head=16, sent_id=25), TokenAnnotation(text='avant', lemma='avant', pos='ADP', dep='mark', head=30, sent_id=25), TokenAnnotation(text='de', lemma='de', pos='ADP', dep='mark', head=30, sent_id=25), TokenAnnotation(text='servir', lemma='servir', pos='VERB', dep='advcl', head=14, sent_id=25), TokenAnnotation(text='la', lemma='le', pos='DET', dep='det', head=32, sent_id=25), TokenAnnotation(text='viande', lemma='viande', pos='NOUN', dep='obj', head=30, sent_id=25), TokenAnnotation(text='et', lemma='et', pos='CCONJ', dep='cc', head=35, sent_id=25), TokenAnnotation(text='les', lemma='le', pos='DET', dep='det', head=35, sent_id=25), TokenAnnotation(text='légumes', lemma='légume', pos='NOUN', dep='conj', head=32, sent_id=25), TokenAnnotation(text='du', lemma='de', pos='ADP', dep='case', head=37, sent_id=25), TokenAnnotation(text='pot-au-feu', lemma='pot-au-feu', pos='NOUN', dep='nmod', head=35, sent_id=25), TokenAnnotation(text='.', lemma='.', pos='PUNCT', dep='punct', head=7, sent_id=25)]\n",
            "[TokenAnnotation(text='Il', lemma='il', pos='PRON', dep='nsubj', head=1, sent_id=26), TokenAnnotation(text='sert', lemma='servir', pos='VERB', dep='ROOT', head=1, sent_id=26), TokenAnnotation(text='également', lemma='également', pos='ADV', dep='advmod', head=1, sent_id=26), TokenAnnotation(text='de', lemma='de', pos='ADP', dep='case', head=4, sent_id=26), TokenAnnotation(text='base', lemma='base', pos='NOUN', dep='obl:arg', head=1, sent_id=26), TokenAnnotation(text='aux', lemma='à', pos='ADP', dep='case', head=6, sent_id=26), TokenAnnotation(text='sauces', lemma='sauce', pos='NOUN', dep='nmod', head=4, sent_id=26), TokenAnnotation(text='ou', lemma='ou', pos='CCONJ', dep='cc', head=10, sent_id=26), TokenAnnotation(text='à', lemma='à', pos='ADP', dep='case', head=10, sent_id=26), TokenAnnotation(text='la', lemma='le', pos='DET', dep='det', head=10, sent_id=26), TokenAnnotation(text='cuisson', lemma='cuisson', pos='NOUN', dep='conj', head=6, sent_id=26), TokenAnnotation(text='des', lemma='de', pos='ADP', dep='case', head=12, sent_id=26), TokenAnnotation(text='légumes', lemma='légume', pos='NOUN', dep='nmod', head=10, sent_id=26), TokenAnnotation(text='ou', lemma='ou', pos='CCONJ', dep='cc', head=15, sent_id=26), TokenAnnotation(text='des', lemma='de', pos='ADP', dep='case', head=15, sent_id=26), TokenAnnotation(text='pâtes', lemma='pâte', pos='NOUN', dep='conj', head=12, sent_id=26), TokenAnnotation(text='.', lemma='.', pos='PUNCT', dep='punct', head=1, sent_id=26)]\n",
            "[TokenAnnotation(text='La', lemma='le', pos='DET', dep='det', head=1, sent_id=27), TokenAnnotation(text='moelle', lemma='moelle', pos='NOUN', dep='nsubj:pass', head=3, sent_id=27), TokenAnnotation(text='est', lemma='être', pos='AUX', dep='aux:pass', head=3, sent_id=27), TokenAnnotation(text='mangée', lemma='manger', pos='VERB', dep='ROOT', head=3, sent_id=27), TokenAnnotation(text='sur', lemma='sur', pos='ADP', dep='case', head=6, sent_id=27), TokenAnnotation(text='du', lemma='de', pos='ADP', dep='det', head=6, sent_id=27), TokenAnnotation(text='pain', lemma='pain', pos='NOUN', dep='obl:mod', head=3, sent_id=27), TokenAnnotation(text='grillé', lemma='grillé', pos='ADJ', dep='amod', head=6, sent_id=27), TokenAnnotation(text='.', lemma='.', pos='PUNCT', dep='punct', head=3, sent_id=27)]\n",
            "[TokenAnnotation(text='Ensuite', lemma='ensuite', pos='ADV', dep='advmod', head=6, sent_id=28), TokenAnnotation(text=',', lemma=',', pos='PUNCT', dep='punct', head=6, sent_id=28), TokenAnnotation(text='le', lemma='le', pos='DET', dep='det', head=3, sent_id=28), TokenAnnotation(text='pot-au-feu', lemma='pot-au-feu', pos='NOUN', dep='nsubj:pass', head=6, sent_id=28), TokenAnnotation(text='est', lemma='être', pos='AUX', dep='aux:pass', head=6, sent_id=28), TokenAnnotation(text='généralement', lemma='généralement', pos='ADV', dep='advmod', head=6, sent_id=28), TokenAnnotation(text='servi', lemma='servir', pos='VERB', dep='ROOT', head=6, sent_id=28), TokenAnnotation(text='avec', lemma='avec', pos='ADP', dep='case', head=10, sent_id=28), TokenAnnotation(text='du', lemma='de', pos='ADP', dep='det', head=10, sent_id=28), TokenAnnotation(text='gros', lemma='gros', pos='ADJ', dep='amod', head=10, sent_id=28), TokenAnnotation(text='sel', lemma='sel', pos='NOUN', dep='obl:mod', head=6, sent_id=28), TokenAnnotation(text='et', lemma='et', pos='CCONJ', dep='cc', head=14, sent_id=28), TokenAnnotation(text='de', lemma='de', pos='ADP', dep='case', head=14, sent_id=28), TokenAnnotation(text='la', lemma='le', pos='DET', dep='det', head=14, sent_id=28), TokenAnnotation(text='moutarde', lemma='moutarde', pos='NOUN', dep='conj', head=10, sent_id=28), TokenAnnotation(text='forte', lemma='fort', pos='ADJ', dep='amod', head=14, sent_id=28), TokenAnnotation(text='de', lemma='de', pos='ADP', dep='case', head=17, sent_id=28), TokenAnnotation(text='Dijon', lemma='Dijon', pos='PROPN', dep='nmod', head=14, sent_id=28), TokenAnnotation(text='.', lemma='.', pos='PUNCT', dep='punct', head=6, sent_id=28)]\n",
            "[TokenAnnotation(text='Le', lemma='le', pos='DET', dep='det', head=1, sent_id=29), TokenAnnotation(text='reste', lemma='reste', pos='NOUN', dep='nsubj', head=4, sent_id=29), TokenAnnotation(text='de', lemma='de', pos='ADP', dep='case', head=3, sent_id=29), TokenAnnotation(text='viande', lemma='viande', pos='NOUN', dep='nmod', head=1, sent_id=29), TokenAnnotation(text='peut', lemma='pouvoir', pos='VERB', dep='ROOT', head=4, sent_id=29), TokenAnnotation(text='être', lemma='être', pos='AUX', dep='aux:pass', head=6, sent_id=29), TokenAnnotation(text='broyé', lemma='broyer', pos='VERB', dep='xcomp', head=4, sent_id=29), TokenAnnotation(text='et', lemma='et', pos='CCONJ', dep='cc', head=8, sent_id=29), TokenAnnotation(text='utilisé', lemma='utiliser', pos='VERB', dep='conj', head=6, sent_id=29), TokenAnnotation(text='pour', lemma='pour', pos='ADP', dep='case', head=11, sent_id=29), TokenAnnotation(text='la', lemma='le', pos='DET', dep='det', head=11, sent_id=29), TokenAnnotation(text='préparation', lemma='préparation', pos='NOUN', dep='obl:mod', head=8, sent_id=29), TokenAnnotation(text=\"d'\", lemma='de', pos='ADP', dep='case', head=14, sent_id=29), TokenAnnotation(text='un', lemma='un', pos='DET', dep='det', head=14, sent_id=29), TokenAnnotation(text='pâté', lemma='pâté', pos='NOUN', dep='nmod', head=11, sent_id=29), TokenAnnotation(text='de', lemma='de', pos='ADP', dep='case', head=16, sent_id=29), TokenAnnotation(text='viande', lemma='viande', pos='NOUN', dep='nmod', head=14, sent_id=29), TokenAnnotation(text=',', lemma=',', pos='PUNCT', dep='punct', head=4, sent_id=29), TokenAnnotation(text='mais', lemma='mais', pos='CCONJ', dep='cc', head=22, sent_id=29), TokenAnnotation(text='cette', lemma='ce', pos='DET', dep='det', head=20, sent_id=29), TokenAnnotation(text='pratique', lemma='pratique', pos='NOUN', dep='nsubj', head=22, sent_id=29), TokenAnnotation(text='est', lemma='être', pos='AUX', dep='cop', head=22, sent_id=29), TokenAnnotation(text='rare', lemma='rare', pos='ADJ', dep='advcl', head=35, sent_id=29), TokenAnnotation(text='en', lemma='en', pos='ADP', dep='case', head=24, sent_id=29), TokenAnnotation(text='France', lemma='France', pos='PROPN', dep='obl:mod', head=22, sent_id=29), TokenAnnotation(text=',', lemma=',', pos='PUNCT', dep='punct', head=22, sent_id=29), TokenAnnotation(text='sauf', lemma='sauf', pos='ADP', dep='case', head=28, sent_id=29), TokenAnnotation(text='en', lemma='en', pos='ADP', dep='case', head=28, sent_id=29), TokenAnnotation(text='Alsace', lemma='Alsace', pos='PROPN', dep='obl:mod', head=22, sent_id=29), TokenAnnotation(text='où', lemma='où', pos='PRON', dep='nmod', head=31, sent_id=29), TokenAnnotation(text='la', lemma='le', pos='DET', dep='det', head=31, sent_id=29), TokenAnnotation(text='viande', lemma='viande', pos='NOUN', dep='nsubj', head=35, sent_id=29), TokenAnnotation(text='et', lemma='et', pos='CCONJ', dep='cc', head=34, sent_id=29), TokenAnnotation(text='le', lemma='le', pos='DET', dep='det', head=34, sent_id=29), TokenAnnotation(text='bouillon', lemma='bouillon', pos='NOUN', dep='conj', head=31, sent_id=29), TokenAnnotation(text='servent', lemma='servir', pos='VERB', dep='parataxis', head=4, sent_id=29), TokenAnnotation(text='à', lemma='à', pos='ADP', dep='mark', head=37, sent_id=29), TokenAnnotation(text='cuisiner', lemma='cuisiner', pos='VERB', dep='xcomp', head=35, sent_id=29), TokenAnnotation(text='les', lemma='le', pos='DET', dep='det', head=39, sent_id=29), TokenAnnotation(text='Fleischschnacka', lemma='fleischschnacka', pos='NOUN', dep='obj', head=37, sent_id=29), TokenAnnotation(text='.', lemma='.', pos='PUNCT', dep='punct', head=4, sent_id=29), TokenAnnotation(text='\\n', lemma='\\n', pos='SPACE', dep='dep', head=40, sent_id=29)]\n",
            "[TokenAnnotation(text='Accord', lemma='accord', pos='NOUN', dep='nsubj', head=1, sent_id=30), TokenAnnotation(text='mets', lemma='mettre', pos='VERB', dep='ROOT', head=1, sent_id=30), TokenAnnotation(text='/', lemma='sur', pos='ADP', dep='case', head=3, sent_id=30), TokenAnnotation(text='vin', lemma='vin', pos='NOUN', dep='nmod', head=1, sent_id=30), TokenAnnotation(text='\\n', lemma='\\n', pos='SPACE', dep='dep', head=3, sent_id=30)]\n",
            "[TokenAnnotation(text='Le', lemma='le', pos='DET', dep='det', head=1, sent_id=31), TokenAnnotation(text='vin', lemma='vin', pos='NOUN', dep='nsubj:pass', head=5, sent_id=31), TokenAnnotation(text='blanc', lemma='blanc', pos='ADJ', dep='amod', head=1, sent_id=31), TokenAnnotation(text='est', lemma='être', pos='AUX', dep='aux:pass', head=5, sent_id=31), TokenAnnotation(text='rarement', lemma='rarement', pos='ADV', dep='advmod', head=5, sent_id=31), TokenAnnotation(text='proposé', lemma='proposer', pos='VERB', dep='ROOT', head=5, sent_id=31), TokenAnnotation(text='avec', lemma='avec', pos='ADP', dep='case', head=8, sent_id=31), TokenAnnotation(text='le', lemma='le', pos='DET', dep='det', head=8, sent_id=31), TokenAnnotation(text='pot-au-feu', lemma='pot-au-feu', pos='NOUN', dep='obl:mod', head=5, sent_id=31), TokenAnnotation(text='.', lemma='.', pos='PUNCT', dep='punct', head=5, sent_id=31)]\n",
            "[TokenAnnotation(text='Il', lemma='il', pos='PRON', dep='expl:subj', head=2, sent_id=32), TokenAnnotation(text=\"s'\", lemma='se', pos='PRON', dep='expl:comp', head=2, sent_id=32), TokenAnnotation(text='accorde', lemma='accorder', pos='VERB', dep='ROOT', head=2, sent_id=32), TokenAnnotation(text='pourtant', lemma='pourtant', pos='ADV', dep='advmod', head=2, sent_id=32), TokenAnnotation(text='avec', lemma='avec', pos='ADP', dep='case', head=6, sent_id=32), TokenAnnotation(text='ce', lemma='ce', pos='DET', dep='det', head=6, sent_id=32), TokenAnnotation(text='mets', lemma='mets', pos='NOUN', dep='obl:mod', head=2, sent_id=32), TokenAnnotation(text=\"s'\", lemma='se', pos='SCONJ', dep='mark', head=10, sent_id=32), TokenAnnotation(text='il', lemma='il', pos='PRON', dep='expl:subj', head=10, sent_id=32), TokenAnnotation(text='est', lemma='être', pos='AUX', dep='cop', head=10, sent_id=32), TokenAnnotation(text='ample', lemma='ample', pos='ADJ', dep='amod', head=6, sent_id=32), TokenAnnotation(text='et', lemma='et', pos='CCONJ', dep='cc', head=12, sent_id=32), TokenAnnotation(text='vif', lemma='vif', pos='ADJ', dep='conj', head=10, sent_id=32), TokenAnnotation(text=',', lemma=',', pos='PUNCT', dep='punct', head=2, sent_id=32), TokenAnnotation(text='dans', lemma='dans', pos='ADP', dep='case', head=16, sent_id=32), TokenAnnotation(text='ce', lemma='ce', pos='DET', dep='det', head=16, sent_id=32), TokenAnnotation(text='cas', lemma='cas', pos='NOUN', dep='obl:mod', head=2, sent_id=32), TokenAnnotation(text=',', lemma=',', pos='PUNCT', dep='punct', head=21, sent_id=32), TokenAnnotation(text=\"c'\", lemma='ce', pos='PRON', dep='nsubj', head=21, sent_id=32), TokenAnnotation(text='est', lemma='être', pos='AUX', dep='cop', head=21, sent_id=32), TokenAnnotation(text='un', lemma='un', pos='DET', dep='det', head=21, sent_id=32), TokenAnnotation(text='vin', lemma='vin', pos='NOUN', dep='ccomp', head=2, sent_id=32), TokenAnnotation(text='qui', lemma='qui', pos='PRON', dep='nsubj', head=23, sent_id=32), TokenAnnotation(text='désaltère', lemma='désaltérer', pos='VERB', dep='acl:relcl', head=21, sent_id=32), TokenAnnotation(text='et', lemma='et', pos='CCONJ', dep='cc', head=25, sent_id=32), TokenAnnotation(text='met', lemma='mettre', pos='VERB', dep='conj', head=23, sent_id=32), TokenAnnotation(text='en', lemma='en', pos='ADP', dep='case', head=27, sent_id=32), TokenAnnotation(text='appétit', lemma='appétit', pos='NOUN', dep='obl:arg', head=25, sent_id=32), TokenAnnotation(text='.', lemma='.', pos='PUNCT', dep='punct', head=2, sent_id=32), TokenAnnotation(text='\\n', lemma='\\n', pos='SPACE', dep='dep', head=28, sent_id=32)]\n",
            "[TokenAnnotation(text='Le', lemma='le', pos='DET', dep='det', head=1, sent_id=33), TokenAnnotation(text='vin', lemma='vin', pos='NOUN', dep='nsubj', head=5, sent_id=33), TokenAnnotation(text='rosé', lemma='rosé', pos='ADJ', dep='amod', head=1, sent_id=33), TokenAnnotation(text='à', lemma='à', pos='ADP', dep='case', head=4, sent_id=33), TokenAnnotation(text='conseiller', lemma='conseiller', pos='NOUN', dep='obl:arg', head=2, sent_id=33), TokenAnnotation(text='doit', lemma='devoir', pos='VERB', dep='ROOT', head=5, sent_id=33), TokenAnnotation(text='être', lemma='être', pos='AUX', dep='cop', head=7, sent_id=33), TokenAnnotation(text='sec', lemma='sec', pos='ADJ', dep='xcomp', head=5, sent_id=33), TokenAnnotation(text=',', lemma=',', pos='PUNCT', dep='punct', head=7, sent_id=33), TokenAnnotation(text='corsé', lemma='corsé', pos='ADJ', dep='advmod', head=7, sent_id=33), TokenAnnotation(text=',', lemma=',', pos='PUNCT', dep='punct', head=7, sent_id=33), TokenAnnotation(text='avec', lemma='avec', pos='ADP', dep='case', head=13, sent_id=33), TokenAnnotation(text='une', lemma='un', pos='DET', dep='det', head=13, sent_id=33), TokenAnnotation(text='robe', lemma='robe', pos='NOUN', dep='obl:mod', head=5, sent_id=33), TokenAnnotation(text='rose', lemma='rose', pos='ADJ', dep='amod', head=13, sent_id=33), TokenAnnotation(text='-', lemma='-', pos='NOUN', dep='nmod', head=13, sent_id=33), TokenAnnotation(text='rouge', lemma='rouge', pos='PROPN', dep='amod', head=13, sent_id=33), TokenAnnotation(text='qui', lemma='qui', pos='PRON', dep='nsubj', head=18, sent_id=33), TokenAnnotation(text='témoigne', lemma='témoigner', pos='VERB', dep='acl:relcl', head=13, sent_id=33), TokenAnnotation(text='de', lemma='de', pos='ADP', dep='case', head=21, sent_id=33), TokenAnnotation(text='sa', lemma='son', pos='DET', dep='det', head=21, sent_id=33), TokenAnnotation(text='charge', lemma='charge', pos='NOUN', dep='obl:arg', head=18, sent_id=33), TokenAnnotation(text='en', lemma='en', pos='ADP', dep='case', head=23, sent_id=33), TokenAnnotation(text='matières', lemma='matière', pos='NOUN', dep='nmod', head=21, sent_id=33), TokenAnnotation(text='sèches', lemma='sec', pos='ADJ', dep='amod', head=23, sent_id=33), TokenAnnotation(text='.', lemma='.', pos='PUNCT', dep='punct', head=5, sent_id=33)]\n",
            "[TokenAnnotation(text='Ce', lemma='ce', pos='DET', dep='det', head=1, sent_id=34), TokenAnnotation(text='type', lemma='type', pos='NOUN', dep='nsubj', head=5, sent_id=34), TokenAnnotation(text='de', lemma='de', pos='ADP', dep='case', head=3, sent_id=34), TokenAnnotation(text='vin', lemma='vin', pos='NOUN', dep='nmod', head=1, sent_id=34), TokenAnnotation(text=\"s'\", lemma='se', pos='PRON', dep='expl:comp', head=5, sent_id=34), TokenAnnotation(text='accorde', lemma='accorder', pos='VERB', dep='ROOT', head=5, sent_id=34), TokenAnnotation(text='avec', lemma='avec', pos='ADP', dep='case', head=8, sent_id=34), TokenAnnotation(text='les', lemma='le', pos='DET', dep='det', head=8, sent_id=34), TokenAnnotation(text='légumes', lemma='légume', pos='NOUN', dep='obl:arg', head=5, sent_id=34), TokenAnnotation(text='et', lemma='et', pos='CCONJ', dep='cc', head=10, sent_id=34), TokenAnnotation(text='étanche', lemma='étanche', pos='ADJ', dep='conj', head=8, sent_id=34), TokenAnnotation(text='la', lemma='le', pos='DET', dep='det', head=12, sent_id=34), TokenAnnotation(text='soif', lemma='soif', pos='NOUN', dep='obj', head=5, sent_id=34), TokenAnnotation(text='.', lemma='.', pos='PUNCT', dep='punct', head=5, sent_id=34), TokenAnnotation(text='\\n', lemma='\\n', pos='SPACE', dep='dep', head=5, sent_id=34)]\n",
            "[TokenAnnotation(text='Le', lemma='le', pos='DET', dep='det', head=1, sent_id=35), TokenAnnotation(text='vin', lemma='vin', pos='NOUN', dep='nsubj', head=3, sent_id=35), TokenAnnotation(text='rouge', lemma='rouge', pos='ADJ', dep='amod', head=1, sent_id=35), TokenAnnotation(text='offre', lemma='offrir', pos='VERB', dep='ROOT', head=3, sent_id=35), TokenAnnotation(text='une', lemma='un', pos='DET', dep='det', head=5, sent_id=35), TokenAnnotation(text='large', lemma='large', pos='ADJ', dep='amod', head=6, sent_id=35), TokenAnnotation(text='gamme', lemma='gamme', pos='NOUN', dep='obj', head=3, sent_id=35), TokenAnnotation(text='qui', lemma='qui', pos='PRON', dep='nsubj', head=8, sent_id=35), TokenAnnotation(text='va', lemma='aller', pos='VERB', dep='acl:relcl', head=6, sent_id=35), TokenAnnotation(text='des', lemma='un', pos='DET', dep='det', head=10, sent_id=35), TokenAnnotation(text='bourgognes', lemma='bourgogne', pos='NOUN', dep='obj', head=8, sent_id=35), TokenAnnotation(text='aux', lemma='à', pos='ADP', dep='case', head=12, sent_id=35), TokenAnnotation(text='bordeaux', lemma='bordeaux', pos='NOUN', dep='nmod', head=10, sent_id=35), TokenAnnotation(text=',', lemma=',', pos='PUNCT', dep='punct', head=8, sent_id=35), TokenAnnotation(text='en', lemma='en', pos='ADP', dep='advmod', head=22, sent_id=35), TokenAnnotation(text='passant', lemma='passer', pos='VERB', dep='fixed', head=14, sent_id=35), TokenAnnotation(text='par', lemma='par', pos='ADP', dep='case', head=18, sent_id=35), TokenAnnotation(text='les', lemma='le', pos='DET', dep='det', head=18, sent_id=35), TokenAnnotation(text='beaujolais', lemma='beaujolais', pos='NOUN', dep='obl:agent', head=15, sent_id=35), TokenAnnotation(text=',', lemma=',', pos='PUNCT', dep='punct', head=21, sent_id=35), TokenAnnotation(text='les', lemma='le', pos='DET', dep='det', head=21, sent_id=35), TokenAnnotation(text='côtes', lemma='côte', pos='NOUN', dep='conj', head=18, sent_id=35), TokenAnnotation(text='-', lemma='-', pos='PUNCT', dep='obl:mod', head=8, sent_id=35), TokenAnnotation(text='du', lemma='de', pos='ADP', dep='obl:mod', head=8, sent_id=35), TokenAnnotation(text='-', lemma='-', pos='NOUN', dep='punct', head=25, sent_id=35), TokenAnnotation(text='rhône', lemma='rhône', pos='NOUN', dep='obl:arg', head=8, sent_id=35), TokenAnnotation(text='-', lemma='-', pos='PROPN', dep='obl:arg', head=8, sent_id=35), TokenAnnotation(text='villages', lemma='village', pos='NOUN', dep='obj', head=8, sent_id=35), TokenAnnotation(text=',', lemma=',', pos='PUNCT', dep='punct', head=30, sent_id=35), TokenAnnotation(text='les', lemma='le', pos='DET', dep='det', head=30, sent_id=35), TokenAnnotation(text='coteaux-du-languedoc', lemma='coteaux-du-languedoc', pos='NOUN', dep='conj', head=6, sent_id=35), TokenAnnotation(text=',', lemma=',', pos='PUNCT', dep='punct', head=3, sent_id=35), TokenAnnotation(text='.', lemma='.', pos='PUNCT', dep='punct', head=3, sent_id=35)]\n"
          ]
        }
      ]
    },
    {
      "cell_type": "markdown",
      "source": [
        "# Voir les dépendences entre les tokens d'une phrase"
      ],
      "metadata": {
        "id": "eQw_0tpYQW8U"
      }
    },
    {
      "cell_type": "code",
      "source": [
        "# from spacy import displacy\n",
        "# tesssst = nlp(\"Le bouillon contient traditionnellement un oignon piqué de clous de girofle, l'ail est déconseillé.\")\n",
        "# displacy.serve(tesssst, style=\"dep\")"
      ],
      "metadata": {
        "id": "uAjlOMhy1Xl0"
      },
      "execution_count": 7,
      "outputs": []
    },
    {
      "cell_type": "code",
      "source": [
        "# POUR VOIR LES EXPLICATIONS DES LABELS `dep`\n",
        "# for label in nlp.get_pipe(\"parser\").labels:\n",
        "#     print(label, \" -- \", spacy.explain(label))\n"
      ],
      "metadata": {
        "id": "5GsJAI7v18CV"
      },
      "execution_count": 8,
      "outputs": []
    },
    {
      "cell_type": "markdown",
      "source": [
        "Explication des DEPS intéressés\n",
        "\n",
        "  1.\tDepLabel : nsubj\n",
        "\t•\tPourquoi : lie un verbe à son sujet (agent)\n",
        "\t•\tExemple & paire extraite : « Le pot-au-feu est une recette. » → (recette, pot-au-feu)\n",
        "\n",
        "  2.\tDepLabel : nsubj:pass\n",
        "\t•\tPourquoi : lie un verbe passif à son sujet/patient\n",
        "\t•\tExemple & paire extraite : « La présence de pomme de terre est discutée. » → (discutée, présence)\n",
        "\n",
        "  3.\tDepLabel : obj\n",
        "\t•\tPourquoi : lie un verbe à son objet direct (quoi fait-on ?)\n",
        "\t•\tExemple & paire extraite : « Schefer fait remonter le pot-au-feu. » → (remonter, pot-au-feu)\n",
        "\n",
        "  4.\tDepLabel : iobj\n",
        "\t•\tPourquoi : lie un verbe à son objet indirect (qui reçoit l’action)\n",
        "\t•\tExemple & paire extraite : « un bouillon auquel on ajoutait viandes. » → (ajoutait, auquel)\n",
        "\n",
        "  5.\tDepLabel : nmod\n",
        "\t•\tPourquoi : complément nominal via préposition (“de”, “à”, …)\n",
        "\t•\tExemple & paire extraite : « recette de cuisine » → (recette, cuisine)\n",
        "\n",
        "  6.\tDepLabel : obl\n",
        "\t•\tPourquoi : complément oblique (lieu, instrument, but…)\n",
        "\t•\tExemple & paire extraite : « cuisant à feu doux » → (cuisant, feu)\n",
        "\n",
        "  7.\tDepLabel : amod\n",
        "\t•\tPourquoi : lie un nom à son adjectif qualificatif\n",
        "\t•\tExemple & paire extraite : « recette traditionnelle » → (recette, traditionnelle)\n",
        "\n",
        "  8.\tDepLabel : compound\n",
        "\t•\tPourquoi : reconstitue des termes composés (expressions figées)\n",
        "\t•\tExemple & paire extraite : « pot-au-feu » → (pot-au-feu, feu)\n",
        "\n",
        "  9.\tDepLabel : flat:name\n",
        "\t•\tPourquoi : agrège des noms propres formant une seule entité\n",
        "\t•\tExemple & paire extraite : « Jean Louis Schefer » → (Jean, Louis)\n",
        "\n",
        "  10.\tDepLabel : appos\n",
        "\t•\tPourquoi : apposition — le second nom renomme le premier\n",
        "\t•\tExemple & paire extraite : « bouillon, poireau, carotte… » → (bouillon, poireau)\n",
        "\n",
        "  11.\tDepLabel : acl\n",
        "\t•\tPourquoi : clause participiale attachée à un nom\n",
        "\t•\tExemple & paire extraite : « pot mis au feu » → (pot, mis)\n",
        "\n",
        "  12.\tDepLabel : acl:relcl\n",
        "\t•\tPourquoi : proposition relative attachée à un nom\n",
        "\t•\tExemple & paire extraite : « le panais qui jouait son rôle » → (panais, jouait)\n",
        "\n",
        "  13.\tDepLabel : advcl\n",
        "\t•\tPourquoi : clause adverbiale attachée à un verbe\n",
        "\t•\tExemple & paire extraite : « le bouillon contient … l’ail est déconseillé » → (contient, déconseillé)"
      ],
      "metadata": {
        "id": "IzNkaOEb93eD"
      }
    },
    {
      "cell_type": "code",
      "source": [
        "INTERESTING_DEPS = {\n",
        "    # verbal relations: subject → verb, verb → object\n",
        "    \"nsubj\", \"nsubj:pass\", \"obj\", \"iobj\",\n",
        "    # noun modifiers: noun → noun (prep-headed), noun → adjective\n",
        "    \"nmod\", \"obl\",  \"amod\",    # e.g. “recette de cuisine”, “bouillon aromatique”\n",
        "    # multi-word names & appositions\n",
        "    \"compound\", \"flat:name\", \"appos\",\n",
        "    # clausal modifiers (relative/participial clauses)\n",
        "    \"acl\", \"acl:relcl\", \"advcl\",\n",
        "}\n",
        "\n",
        "def extract_pairs(tokens):\n",
        "    pairs = []\n",
        "    for idx, tok in enumerate(tokens):\n",
        "        if tok.dep in INTERESTING_DEPS:\n",
        "            head = tokens[tok.head]               # the head token\n",
        "            pairs.append(( head.lemma, tok.lemma, tok.dep ))\n",
        "    return pairs\n",
        "\n",
        "all_pairs = []\n",
        "for sent in sents:\n",
        "    p = extract_pairs(sent)\n",
        "    all_pairs.append(p)"
      ],
      "metadata": {
        "id": "aQgKuDRYCXzB"
      },
      "execution_count": 14,
      "outputs": []
    },
    {
      "cell_type": "code",
      "source": [
        "print(f\"HEAD | LEMMA | DEP\")\n",
        "for i, pair in enumerate(all_pairs[:1]):\n",
        "    for p in pair: print(p)\n",
        "\n",
        "with open(f\"{my_local_drive}pairs.txt\", \"w\") as f:\n",
        "    for i, pair in enumerate(all_pairs):\n",
        "        for p in pair:\n",
        "            f.write(f\"{p[0]},{p[1]}\\n\")\n"
      ],
      "metadata": {
        "colab": {
          "base_uri": "https://localhost:8080/"
        },
        "collapsed": true,
        "id": "Gx6FdiIfUDBd",
        "outputId": "e4ed5586-f2e1-4bf1-ced4-4f99fefce566"
      },
      "execution_count": 15,
      "outputs": [
        {
          "output_type": "stream",
          "name": "stdout",
          "text": [
            "HEAD | LEMMA | DEP\n",
            "('recette', 'pot-au-feu', 'nsubj')\n",
            "('pot-au-feu', 'inv', 'appos')\n",
            "('recette', 'cuisine', 'nmod')\n",
            "('cuisine', 'traditionnel', 'amod')\n",
            "('cuisine', 'emblématique', 'amod')\n",
            "('recette', 'historique', 'amod')\n",
            "('cuisine', 'français', 'amod')\n",
            "('repas', 'gastronomique', 'amod')\n",
            "('repas', 'français', 'nmod')\n",
            "('repas', 'base', 'nmod')\n",
            "('base', 'viande', 'nmod')\n",
            "('viande', 'bœuf', 'nmod')\n",
            "('base', 'cuire', 'acl')\n",
            "('feu', 'doux', 'amod')\n",
            "('repas', 'bouillon', 'nmod')\n",
            "('bouillon', 'légume', 'nmod')\n",
            "('repas', 'poireau', 'appos')\n",
            "('repas', 'navet', 'appos')\n",
            "('bouquet', 'garni', 'amod')\n"
          ]
        }
      ]
    },
    {
      "cell_type": "markdown",
      "source": [
        "# Filtrer par Word2Vec avant d'envoyer ces paires à JdM\n",
        "\n",
        "Word2Vec :\n",
        "1. Principe de base\n",
        "Word2Vec encode chaque mot sous forme de vecteur en se basant sur ses contexte d’apparition (les mots voisins dans un corpus), pas sur sa forme ou sa morphologie.\n",
        "2. Entraînement\n",
        "-\tSkip-Gram : pour un mot central w, le modèle apprend à prédire les mots qui l’entourent.\n",
        "-\tCBOW : pour un ensemble de mots de contexte, il prédit le mot central.\n",
        "Le résultat : deux mots qui partagent des contextes similaires (ex. “girofle” et “épice”) auront des vecteurs proches.\n",
        "3. Centroïde de domaine\n",
        "On choisit quelques pivots représentatifs du domaine (ex. “cuisine”, “recette”, “ingrédient”) et on fait la moyenne de leurs vecteurs pour obtenir un vecteur-prototype du domaine gastronomie."
      ],
      "metadata": {
        "id": "Flg7Vide5-hw"
      }
    },
    {
      "cell_type": "code",
      "source": [
        "pairs_file = \"pairs.txt\"   # adjust path if needed\n",
        "with open(my_local_drive + pairs_file, \"r\", encoding=\"utf-8\") as f:\n",
        "    candidate_pairs = [tuple(line.strip().split(\",\"))\n",
        "                       for line in f\n",
        "                       if line.strip()]\n",
        "print(f\"Loaded {len(candidate_pairs)} candidate pairs\")"
      ],
      "metadata": {
        "colab": {
          "base_uri": "https://localhost:8080/"
        },
        "id": "yc01qm8dKnVI",
        "outputId": "7077dca8-e6c0-4d8e-ef74-153c35b42f55"
      },
      "execution_count": 16,
      "outputs": [
        {
          "output_type": "stream",
          "name": "stdout",
          "text": [
            "Loaded 292 candidate pairs\n"
          ]
        }
      ]
    },
    {
      "cell_type": "code",
      "source": [
        "# !pip install numpy==1.24.3 --force-reinstall # Downgrade numpy to a version compatible with gensim\n",
        "!pip install --upgrade gensim --force-reinstall # Reinstall gensim with the compatible numpy version\n",
        "# !pip install --upgrade scipy --force-reinstall"
      ],
      "metadata": {
        "colab": {
          "base_uri": "https://localhost:8080/"
        },
        "id": "Zq4_-AUNQoko",
        "outputId": "7b59f684-659e-4e69-ebfa-32b630f06161"
      },
      "execution_count": 17,
      "outputs": [
        {
          "output_type": "stream",
          "name": "stdout",
          "text": [
            "Collecting gensim\n",
            "  Using cached gensim-4.3.3-cp311-cp311-manylinux_2_17_x86_64.manylinux2014_x86_64.whl.metadata (8.1 kB)\n",
            "Collecting numpy<2.0,>=1.18.5 (from gensim)\n",
            "  Using cached numpy-1.26.4-cp311-cp311-manylinux_2_17_x86_64.manylinux2014_x86_64.whl.metadata (61 kB)\n",
            "Collecting scipy<1.14.0,>=1.7.0 (from gensim)\n",
            "  Using cached scipy-1.13.1-cp311-cp311-manylinux_2_17_x86_64.manylinux2014_x86_64.whl.metadata (60 kB)\n",
            "Collecting smart-open>=1.8.1 (from gensim)\n",
            "  Using cached smart_open-7.1.0-py3-none-any.whl.metadata (24 kB)\n",
            "Collecting wrapt (from smart-open>=1.8.1->gensim)\n",
            "  Using cached wrapt-1.17.2-cp311-cp311-manylinux_2_5_x86_64.manylinux1_x86_64.manylinux_2_17_x86_64.manylinux2014_x86_64.whl.metadata (6.4 kB)\n",
            "Using cached gensim-4.3.3-cp311-cp311-manylinux_2_17_x86_64.manylinux2014_x86_64.whl (26.7 MB)\n",
            "Using cached numpy-1.26.4-cp311-cp311-manylinux_2_17_x86_64.manylinux2014_x86_64.whl (18.3 MB)\n",
            "Using cached scipy-1.13.1-cp311-cp311-manylinux_2_17_x86_64.manylinux2014_x86_64.whl (38.6 MB)\n",
            "Using cached smart_open-7.1.0-py3-none-any.whl (61 kB)\n",
            "Using cached wrapt-1.17.2-cp311-cp311-manylinux_2_5_x86_64.manylinux1_x86_64.manylinux_2_17_x86_64.manylinux2014_x86_64.whl (83 kB)\n",
            "Installing collected packages: wrapt, numpy, smart-open, scipy, gensim\n",
            "  Attempting uninstall: wrapt\n",
            "    Found existing installation: wrapt 1.17.2\n",
            "    Uninstalling wrapt-1.17.2:\n",
            "      Successfully uninstalled wrapt-1.17.2\n",
            "  Attempting uninstall: numpy\n",
            "    Found existing installation: numpy 1.26.4\n",
            "    Uninstalling numpy-1.26.4:\n",
            "      Successfully uninstalled numpy-1.26.4\n",
            "  Attempting uninstall: smart-open\n",
            "    Found existing installation: smart-open 7.1.0\n",
            "    Uninstalling smart-open-7.1.0:\n",
            "      Successfully uninstalled smart-open-7.1.0\n",
            "  Attempting uninstall: scipy\n",
            "    Found existing installation: scipy 1.13.1\n",
            "    Uninstalling scipy-1.13.1:\n",
            "      Successfully uninstalled scipy-1.13.1\n",
            "  Attempting uninstall: gensim\n",
            "    Found existing installation: gensim 4.3.3\n",
            "    Uninstalling gensim-4.3.3:\n",
            "      Successfully uninstalled gensim-4.3.3\n",
            "\u001b[31mERROR: pip's dependency resolver does not currently take into account all the packages that are installed. This behaviour is the source of the following dependency conflicts.\n",
            "thinc 8.3.6 requires numpy<3.0.0,>=2.0.0, but you have numpy 1.26.4 which is incompatible.\u001b[0m\u001b[31m\n",
            "\u001b[0mSuccessfully installed gensim-4.3.3 numpy-1.26.4 scipy-1.13.1 smart-open-7.1.0 wrapt-1.17.2\n"
          ]
        }
      ]
    },
    {
      "cell_type": "code",
      "source": [
        "# Run this if model is not downloaded\n",
        "!wget -c \"https://dl.fbaipublicfiles.com/fasttext/vectors-crawl/cc.fr.300.vec.gz\" -O \"cc.fr.300.vec.gz\""
      ],
      "metadata": {
        "id": "GFAGmfi7RydO",
        "colab": {
          "base_uri": "https://localhost:8080/"
        },
        "outputId": "eeb79ff5-8db0-4a92-da40-0e04e67eb6c4"
      },
      "execution_count": 18,
      "outputs": [
        {
          "output_type": "stream",
          "name": "stdout",
          "text": [
            "--2025-05-11 15:36:16--  https://dl.fbaipublicfiles.com/fasttext/vectors-crawl/cc.fr.300.vec.gz\n",
            "Resolving dl.fbaipublicfiles.com (dl.fbaipublicfiles.com)... 18.173.132.17, 18.173.132.13, 18.173.132.6, ...\n",
            "Connecting to dl.fbaipublicfiles.com (dl.fbaipublicfiles.com)|18.173.132.17|:443... connected.\n",
            "HTTP request sent, awaiting response... 416 Requested Range Not Satisfiable\n",
            "\n",
            "    The file is already fully retrieved; nothing to do.\n",
            "\n"
          ]
        }
      ]
    },
    {
      "cell_type": "code",
      "source": [
        "import numpy as np\n",
        "from gensim.models import KeyedVectors\n",
        "from numpy.linalg import norm\n",
        "from collections import defaultdict\n",
        "\n",
        "model = KeyedVectors.load_word2vec_format('cc.fr.300.vec.gz', binary=False, limit=50000)  # Limit to 50k for memory\n",
        "\n",
        "# 1. Define your gastronomy “pivot” words\n",
        "pivots = [\"cuisine\",\"recette\",\"ingrédient\",\"épice\",\"gastronomie\"]\n",
        "# Keep only those that actually exist in the model\n",
        "pivot_vecs = [model[p] for p in pivots if p in model]\n",
        "if not pivot_vecs:\n",
        "    raise ValueError(\"None of your pivots were in the model!\")\n",
        "\n",
        "# 2. Compute the domain centroid\n",
        "domain_centroid = np.mean(pivot_vecs, axis=0)\n",
        "\n",
        "\n",
        "# 3. Load your candidate pairs (head, dependent)\n",
        "#    For example, from your pairs.txt:\n",
        "pairs = []\n",
        "with open(f\"{my_local_drive}pairs.txt\", \"r\", encoding=\"utf-8\") as f:\n",
        "    for line in f:\n",
        "        h, d = line.strip().split(\",\")\n",
        "        pairs.append((h, d))\n",
        "\n",
        "\n",
        "# 4. Define helper functions\n",
        "def pair_vector(h, d):\n",
        "    \"\"\"Average the two word vectors.\"\"\"\n",
        "    return (model[h] + model[d]) / 2\n",
        "\n",
        "def cosine_sim(a: np.ndarray, b: np.ndarray) -> float:\n",
        "    return float(a.dot(b) / (norm(a) * norm(b)))\n",
        "\n",
        "\n",
        "# 5. Compute similarities and filter\n",
        "THRESHOLD = 0.25\n",
        "filtered = []\n",
        "under_threshold = []\n",
        "for h, d in pairs:\n",
        "    if h in model and d in model:\n",
        "        vec = pair_vector(h, d)\n",
        "        sim = cosine_sim(domain_centroid, vec)\n",
        "        if sim >= THRESHOLD:\n",
        "            filtered.append((h, d, sim))\n",
        "        else:\n",
        "            under_threshold.append((h, d, sim))"
      ],
      "metadata": {
        "id": "i68d4CjMVL3n"
      },
      "execution_count": 19,
      "outputs": []
    },
    {
      "cell_type": "code",
      "source": [
        "print(f\"Under threshold - removed {len(under_threshold)} pairs:\")\n",
        "for h, d, sim in under_threshold:\n",
        "    print(f\"  {h:12s} {d:12s} → sim={sim:.3f}\")\n",
        "\n",
        "print(\"\\n---------------------\\n\")\n",
        "\n",
        "print(f\"Kept {len(filtered)}/{len(pairs)} pairs:\")\n",
        "for h, d, sim in filtered:\n",
        "    print(f\"  {h:12s} {d:12s} → sim={sim:.3f}\")\n"
      ],
      "metadata": {
        "id": "bJXhuruAV4dU",
        "colab": {
          "base_uri": "https://localhost:8080/"
        },
        "outputId": "01d2a4d1-2ff5-4f73-a326-deaed2fe8dde"
      },
      "execution_count": 20,
      "outputs": [
        {
          "output_type": "stream",
          "name": "stdout",
          "text": [
            "Under threshold - removed 41 pairs:\n",
            "  discuter     présence     → sim=0.205\n",
            "  discuter     faire        → sim=0.207\n",
            "  Antoine      Parmentier   → sim=0.184\n",
            "  jouer        rôle         → sim=0.243\n",
            "  historique   Jean         → sim=0.127\n",
            "  Jean         Louis        → sim=0.053\n",
            "  cloche       or           → sim=0.201\n",
            "  faire        on           → sim=0.182\n",
            "  ajouter      on           → sim=0.172\n",
            "  penser       Jean         → sim=0.157\n",
            "  Jean         Guillaume    → sim=0.065\n",
            "  ajouter      on           → sim=0.172\n",
            "  ajouter      y            → sim=0.135\n",
            "  appeler      il           → sim=0.147\n",
            "  pouvoir      rajouter     → sim=0.239\n",
            "  au           remplacer    → sim=0.076\n",
            "  celui        retirer      → sim=0.247\n",
            "  roman        -            → sim=0.122\n",
            "  roman        1924         → sim=0.201\n",
            "  coût         nécessiter   → sim=0.210\n",
            "  gîte         gîte         → sim=0.236\n",
            "  cours        moment       → sim=0.250\n",
            "  promotion    Antoine      → sim=0.223\n",
            "  Antoine      Parmentier   → sim=0.184\n",
            "  utiliser     où           → sim=0.154\n",
            "  utiliser     le           → sim=0.109\n",
            "  utiliser     on           → sim=0.173\n",
            "  un           couper       → sim=0.176\n",
            "  ce           noir         → sim=0.230\n",
            "  distinguer   Jules        → sim=0.151\n",
            "  opter        Paul         → sim=0.182\n",
            "  opter        Jules        → sim=0.220\n",
            "  être         compromis    → sim=0.229\n",
            "  compromis    Sabine       → sim=0.216\n",
            "  être         commencer    → sim=0.231\n",
            "  ajouter      en           → sim=0.186\n",
            "  3            5            → sim=0.028\n",
            "  cuire        le           → sim=0.203\n",
            "  laisse       on           → sim=0.158\n",
            "  servir       il           → sim=0.187\n",
            "  robe         -            → sim=0.201\n",
            "\n",
            "---------------------\n",
            "\n",
            "Kept 191/292 pairs:\n",
            "  recette      cuisine      → sim=0.846\n",
            "  cuisine      traditionnel → sim=0.714\n",
            "  cuisine      emblématique → sim=0.741\n",
            "  recette      historique   → sim=0.728\n",
            "  cuisine      français     → sim=0.647\n",
            "  repas        gastronomique → sim=0.491\n",
            "  repas        français     → sim=0.421\n",
            "  repas        base         → sim=0.521\n",
            "  base         viande       → sim=0.580\n",
            "  viande       bœuf         → sim=0.480\n",
            "  base         cuire        → sim=0.499\n",
            "  feu          doux         → sim=0.297\n",
            "  repas        bouillon     → sim=0.489\n",
            "  bouillon     légume       → sim=0.566\n",
            "  repas        poireau      → sim=0.495\n",
            "  bouquet      garni        → sim=0.330\n",
            "  présence     pomme        → sim=0.480\n",
            "  pomme        terre        → sim=0.458\n",
            "  faire        lui          → sim=0.265\n",
            "  faire        partie       → sim=0.350\n",
            "  recette      origine      → sim=0.740\n",
            "  pomme        terre        → sim=0.458\n",
            "  fin          siècle       → sim=0.289\n",
            "  jouer        qui          → sim=0.299\n",
            "  rêve         néolithique  → sim=0.325\n",
            "  celui        foyer        → sim=0.311\n",
            "  celui        vase         → sim=0.311\n",
            "  vase         argile       → sim=0.363\n",
            "  celui        pot          → sim=0.347\n",
            "  pot          mettre       → sim=0.333\n",
            "  faim         apaiser      → sim=0.337\n",
            "  remonter     origine      → sim=0.322\n",
            "  origine      reprendre    → sim=0.365\n",
            "  restaurant   cloche       → sim=0.435\n",
            "  désigner     pot          → sim=0.352\n",
            "  pot          feu          → sim=0.341\n",
            "  désigner     pot          → sim=0.352\n",
            "  pot          faire        → sim=0.354\n",
            "  revenir      bouillon     → sim=0.418\n",
            "  bouillon     aromatique   → sim=0.576\n",
            "  ajouter      auquel       → sim=0.267\n",
            "  bouillon     ajouter      → sim=0.409\n",
            "  ajouter      viande       → sim=0.539\n",
            "  origine      agriculture  → sim=0.435\n",
            "  compléter    herbe        → sim=0.409\n",
            "  ajouter      faire        → sim=0.289\n",
            "  faire        soupe        → sim=0.502\n",
            "  jour         grand        → sim=0.309\n",
            "  viande       pot          → sim=0.461\n",
            "  pouvoir      cuisson      → sim=0.486\n",
            "  ingrédient   nouveau      → sim=0.614\n",
            "  rajouter     ingrédient   → sim=0.577\n",
            "  remplacer    celui        → sim=0.262\n",
            "  retirer      qui          → sim=0.265\n",
            "  avoir        maison       → sim=0.395\n",
            "  cuisiner     avoir        → sim=0.441\n",
            "  avoir        feu          → sim=0.281\n",
            "  feu          bois         → sim=0.310\n",
            "  feu          allumer      → sim=0.266\n",
            "  vue          repas        → sim=0.410\n",
            "  roman        vie          → sim=0.402\n",
            "  inspirer     qui          → sim=0.301\n",
            "  chef         nombreux     → sim=0.338\n",
            "  varier       coupe        → sim=0.369\n",
            "  coupe        bœuf         → sim=0.450\n",
            "  varier       légume       → sim=0.519\n",
            "  légume       impliquer    → sim=0.517\n",
            "  joue         contenir     → sim=0.259\n",
            "  contenir     coupe        → sim=0.312\n",
            "  coupe        bœuf         → sim=0.450\n",
            "  coût         faible       → sim=0.255\n",
            "  coupe        coût         → sim=0.311\n",
            "  cuisson      long         → sim=0.385\n",
            "  nécessiter   cuisson      → sim=0.462\n",
            "  cuisson      gîte         → sim=0.423\n",
            "  gîte         noix         → sim=0.424\n",
            "  joue         bœuf         → sim=0.403\n",
            "  joue         plat         → sim=0.450\n",
            "  plat         côte         → sim=0.439\n",
            "  varier       queue        → sim=0.343\n",
            "  queue        bœuf         → sim=0.400\n",
            "  queue        moelle       → sim=0.329\n",
            "  varier       légume       → sim=0.519\n",
            "  varier       carotte      → sim=0.448\n",
            "  carotte      pomme        → sim=0.490\n",
            "  pomme        terre        → sim=0.458\n",
            "  introduire   qui          → sim=0.283\n",
            "  carotte      introduire   → sim=0.450\n",
            "  cours        siècle       → sim=0.273\n",
            "  moment       promotion    → sim=0.324\n",
            "  promotion    France       → sim=0.294\n",
            "  ;            épice        → sim=0.436\n",
            "  varier       bouquet      → sim=0.393\n",
            "  bouquet      garni        → sim=0.330\n",
            "  bouquet      sel          → sim=0.482\n",
            "  clou         girofle      → sim=0.339\n",
            "  plat         rare         → sim=0.507\n",
            "  un           plat         → sim=0.284\n",
            "  plat         utiliser     → sim=0.502\n",
            "  utiliser     aliment      → sim=0.525\n",
            "  aliment      brûler       → sim=0.450\n",
            "  colorer      bouillon     → sim=0.427\n",
            "  couper       oignon       → sim=0.383\n",
            "  noir         surface      → sim=0.335\n",
            "  Jules        cuisinier    → sim=0.282\n",
            "  cuisinier    français     → sim=0.457\n",
            "  cuisinier    siècle       → sim=0.442\n",
            "  jour         extra        → sim=0.347\n",
            "  distinguer   cuisson      → sim=0.511\n",
            "  présence     méthode      → sim=0.448\n",
            "  distinguer   présence     → sim=0.282\n",
            "  présence     mettre       → sim=0.296\n",
            "  mettre       bœuf         → sim=0.420\n",
            "  eau          froid        → sim=0.382\n",
            "  donne        premier      → sim=0.292\n",
            "  donne        bouillon     → sim=0.419\n",
            "  préserver    second       → sim=0.284\n",
            "  préserver    gout         → sim=0.433\n",
            "  gout         viande       → sim=0.571\n",
            "  eau          froid        → sim=0.382\n",
            "  compromis    bon          → sim=0.305\n",
            "  eau          froid        → sim=0.382\n",
            "  morceau      premier      → sim=0.371\n",
            "  eau          morceau      → sim=0.437\n",
            "  morceau      bœuf         → sim=0.446\n",
            "  ajouter      autre        → sim=0.370\n",
            "  eau          bout         → sim=0.361\n",
            "  contenir     bouillon     → sim=0.384\n",
            "  contenir     oignon       → sim=0.405\n",
            "  oignon       piquer       → sim=0.426\n",
            "  oignon       clou         → sim=0.364\n",
            "  clou         girofle      → sim=0.339\n",
            "  devoir       cuisson      → sim=0.455\n",
            "  soin         premier      → sim=0.293\n",
            "  faire        feu          → sim=0.302\n",
            "  continuer    ébullition   → sim=0.289\n",
            "  séjourner    légume       → sim=0.489\n",
            "  temps        cuire        → sim=0.381\n",
            "  couvercle    marmite      → sim=0.453\n",
            "  début        cuisson      → sim=0.427\n",
            "  retirer      viande       → sim=0.463\n",
            "  viande       cuire        → sim=0.503\n",
            "  préférer     amateur      → sim=0.298\n",
            "  faire        cuisson      → sim=0.496\n",
            "  être         second       → sim=0.260\n",
            "  servir       bouillon     → sim=0.453\n",
            "  bouillon     cuisson      → sim=0.550\n",
            "  servir       agrémenter   → sim=0.363\n",
            "  pâte         riz          → sim=0.558\n",
            "  pain         grillé       → sim=0.544\n",
            "  agrémenter   servir       → sim=0.363\n",
            "  servir       viande       → sim=0.554\n",
            "  base         sauce        → sim=0.568\n",
            "  cuisson      légume       → sim=0.638\n",
            "  manger       moelle       → sim=0.436\n",
            "  pain         grillé       → sim=0.544\n",
            "  sel          gros         → sim=0.428\n",
            "  moutarde     fort         → sim=0.432\n",
            "  moutarde     Dijon        → sim=0.311\n",
            "  pouvoir      reste        → sim=0.290\n",
            "  reste        viande       → sim=0.540\n",
            "  préparation  pâté         → sim=0.464\n",
            "  pâté         viande       → sim=0.517\n",
            "  rare         pratique     → sim=0.392\n",
            "  servir       rare         → sim=0.407\n",
            "  viande       où           → sim=0.256\n",
            "  servir       viande       → sim=0.554\n",
            "  mettre       accord       → sim=0.271\n",
            "  mettre       vin          → sim=0.491\n",
            "  proposer     vin          → sim=0.495\n",
            "  vin          blanc        → sim=0.478\n",
            "  mets         ample        → sim=0.395\n",
            "  vin          ce           → sim=0.382\n",
            "  devoir       vin          → sim=0.478\n",
            "  vin          rosé         → sim=0.447\n",
            "  robe         rose         → sim=0.428\n",
            "  robe         rouge        → sim=0.413\n",
            "  témoigner    qui          → sim=0.264\n",
            "  robe         témoigner    → sim=0.396\n",
            "  charge       matière      → sim=0.341\n",
            "  matière      sec          → sim=0.324\n",
            "  accorder     type         → sim=0.318\n",
            "  type         vin          → sim=0.498\n",
            "  accorder     soif         → sim=0.305\n",
            "  offrir       vin          → sim=0.501\n",
            "  vin          rouge        → sim=0.481\n",
            "  gamme        large        → sim=0.328\n",
            "  offrir       gamme        → sim=0.363\n",
            "  aller        qui          → sim=0.285\n",
            "  gamme        aller        → sim=0.364\n",
            "  aller        village      → sim=0.275\n"
          ]
        }
      ]
    },
    {
      "cell_type": "markdown",
      "source": [
        "# Envoyer les paires récupérées ci-dessus et vérifier avec JdM\n",
        "\n",
        "`https://jdm-api.demo.lirmm.fr/v0/relations/from/[head]/to/[lemma]`\n",
        "\n",
        "https://jdm-api.demo.lirmm.fr/v0/relations/from/clou/to/girofle\n",
        "\n",
        "\n",
        "\n",
        "```\n",
        "{\n",
        "    \"nodes\": [\n",
        "        // On s'en fout\n",
        "    ],\n",
        "    \"relations\": [\n",
        "        {\n",
        "            \"id\": 9902807,\n",
        "            \"node1\": 11651,\n",
        "            \"node2\": 43873,\n",
        "            \"type\": 0,\n",
        "            \"w\": 55\n",
        "        },\n",
        "        {\n",
        "            \"id\": 413873,\n",
        "            \"node1\": 11651,\n",
        "            \"node2\": 43873,\n",
        "            \"type\": 8,\n",
        "            \"w\": 111\n",
        "        }\n",
        "    ],\n",
        "    \"request\": {\n",
        "      // On s'en fout\n",
        "    }\n",
        "}\n",
        "```\n",
        "\n"
      ],
      "metadata": {
        "id": "nGFNfGniRR3h"
      }
    },
    {
      "cell_type": "code",
      "source": [
        "# prompt: Save filtered pairs to filtered_pairs.txt\n",
        "\n",
        "with open(f\"{my_local_drive}filtered_pairs.txt\", \"w\") as f:\n",
        "    for h, d, sim in filtered:\n",
        "        f.write(f\"{h},{d}\\n\")\n"
      ],
      "metadata": {
        "id": "JB2vRML95z7B"
      },
      "execution_count": 21,
      "outputs": []
    },
    {
      "cell_type": "markdown",
      "source": [
        "# Get relations from JdM\n",
        "Save to `relations_results.csv`."
      ],
      "metadata": {
        "id": "5k91HrovrqB_"
      }
    },
    {
      "cell_type": "code",
      "source": [
        "import requests, csv, json, time\n",
        "from tqdm import tqdm  # Import tqdm for the progress bar\n",
        "\n",
        "BASE_URL = \"https://jdm-api.demo.lirmm.fr/v0/relations\"\n",
        "INPUT    = f\"{my_local_drive}filtered_pairs.txt\"\n",
        "OUTPUT   = f\"{my_local_drive}relations_results.csv\"\n",
        "\n",
        "# Read and dedupe all pairs\n",
        "seen = set()\n",
        "unique_pairs = []\n",
        "with open(INPUT, encoding=\"utf-8\") as fin:\n",
        "    for line in fin:\n",
        "        head, dep = line.strip().split(\",\")\n",
        "        pair = (head, dep)\n",
        "        if pair not in seen:\n",
        "            seen.add(pair)\n",
        "            unique_pairs.append(pair)\n",
        "\n",
        "# Write out results without duplicates\n",
        "with open(OUTPUT, \"w\", newline=\"\", encoding=\"utf-8\") as fout:\n",
        "    writer = csv.DictWriter(fout, fieldnames=[\"node1\",\"node2\",\"relations\"])\n",
        "    writer.writeheader()\n",
        "\n",
        "    for head, dep in tqdm(unique_pairs, total=len(unique_pairs), desc=\"Processing unique pairs\"):\n",
        "        resp = requests.get(f\"{BASE_URL}/from/{head}/to/{dep}\")\n",
        "        resp.raise_for_status()\n",
        "        rels = resp.json().get(\"relations\", [])\n",
        "        writer.writerow({\n",
        "            \"node1\": head,\n",
        "            \"node2\": dep,\n",
        "            \"relations\": json.dumps(rels, ensure_ascii=False)\n",
        "        })\n",
        "        time.sleep(0.2)"
      ],
      "metadata": {
        "colab": {
          "base_uri": "https://localhost:8080/"
        },
        "id": "9rJ7pUb_mTbQ",
        "outputId": "b391efe3-4494-4fb6-8163-61bbb104ceda"
      },
      "execution_count": 22,
      "outputs": [
        {
          "output_type": "stream",
          "name": "stderr",
          "text": [
            "Processing pairs: 100%|██████████| 191/191 [01:39<00:00,  1.92it/s]\n"
          ]
        }
      ]
    },
    {
      "cell_type": "markdown",
      "source": [
        "**Preview results**"
      ],
      "metadata": {
        "id": "7xlcLQ9or9FJ"
      }
    },
    {
      "cell_type": "code",
      "source": [
        "import pandas as pd\n",
        "import json\n",
        "\n",
        "# Load the CSV file into a pandas DataFrame\n",
        "df = pd.read_csv('/content/gdrive/My Drive/TER/relations_results.csv')\n",
        "import matplotlib.pyplot as plt\n",
        "\n",
        "# ─ Assumes you already have:\n",
        "#    df         = your DataFrame with columns ['node1','node2','relations']\n",
        "#    rel_types  = list of dicts loaded from relations_types.json\n",
        "\n",
        "# 1. Parse the JSON strings in 'relations'\n",
        "df['relations'] = df['relations'].apply(json.loads)\n",
        "\n",
        "# Load the CSV and JSON metadata\n",
        "with open('/content/gdrive/My Drive/TER/relations_types.json', 'r', encoding='utf-8') as f:\n",
        "    rel_types = json.load(f)\n",
        "\n",
        "# 2. Explode & normalize into a flat DataFrame\n",
        "rel_df = pd.json_normalize(\n",
        "    df.explode('relations')['relations']\n",
        ").rename(columns={'type': 'rel_type', 'w': 'weight'})\n",
        "\n",
        "# 3. Compute aggregate stats\n",
        "stats = (\n",
        "    rel_df\n",
        "    .groupby('rel_type', as_index=False)\n",
        "    .agg(Count=('rel_type', 'size'),\n",
        "         Mean_w=('weight', 'mean'))\n",
        ")\n",
        "stats['% of total'] = stats['Count'] / stats['Count'].sum() * 100\n",
        "\n",
        "# 4. Build metadata DataFrame from rel_types\n",
        "meta_df = (\n",
        "    pd.DataFrame(rel_types)[['id','name','gpname']]\n",
        "    .rename(columns={'id':'rel_type','name':'Name','gpname':'Label'})\n",
        ")\n",
        "\n",
        "# 5. Merge, format, and select top 10\n",
        "merged = stats.merge(meta_df, on='rel_type').sort_values('Count', ascending=False)\n",
        "merged['Mean_w']     = merged['Mean_w'].round(2)\n",
        "merged['% of total'] = merged['% of total'].round(1)\n",
        "top10 = merged.head(10)[['rel_type','Name','Label','Count','% of total','Mean_w']]\n",
        "\n",
        "# 6. Display results\n",
        "print(top10.to_string(index=False))\n",
        "\n",
        "# 7. Visualize\n",
        "plt.figure(figsize=(8,5))\n",
        "plt.bar(top10['Name'], top10['Count'])\n",
        "plt.xticks(rotation=45, ha='right')\n",
        "plt.ylabel('Nombre de relations')\n",
        "plt.title('Top 10 des types de relations par fréquence')\n",
        "plt.tight_layout()\n",
        "plt.show()\n"
      ],
      "metadata": {
        "colab": {
          "base_uri": "https://localhost:8080/",
          "height": 703
        },
        "id": "BZxUqkbPrPAQ",
        "outputId": "40d37b21-b7e4-41f6-afaa-46ceb2f4b47e"
      },
      "execution_count": 31,
      "outputs": [
        {
          "output_type": "stream",
          "name": "stdout",
          "text": [
            " rel_type         Name           Label  Count  % of total  Mean_w\n",
            "      0.0 r_associated   idée associée     34        30.4  106.74\n",
            "     17.0      r_carac caractéristique     18        16.1   59.44\n",
            "    666.0        r_aki           r_aki      8         7.1    3.12\n",
            "      8.0       r_hypo      spécifique      7         6.2  102.71\n",
            "     14.0    r_patient  action>patient      6         5.4   72.33\n",
            "    106.0  r_has_color         couleur      5         4.5    9.00\n",
            "     15.0       r_lieu      chose>lieu      4         3.6   34.00\n",
            "     27.0   r_domain-1       domaine-1      4         3.6   26.25\n",
            "    777.0       r_wiki          r_wiki      4         3.6    9.75\n",
            "     10.0       r_holo            tout      3         2.7   37.67\n"
          ]
        },
        {
          "output_type": "display_data",
          "data": {
            "text/plain": [
              "<Figure size 800x500 with 1 Axes>"
            ],
            "image/png": "[encoded data removed]"
          },
          "metadata": {}
        }
      ]
    }
  ]
}